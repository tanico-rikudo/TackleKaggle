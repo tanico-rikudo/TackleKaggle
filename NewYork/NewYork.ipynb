{
 "cells": [
  {
   "cell_type": "code",
   "execution_count": 275,
   "metadata": {},
   "outputs": [],
   "source": [
    "import pandas as pd\n",
    "import numpy as np\n",
    "from matplotlib import pyplot as plt\n",
    "import seaborn as sns\n",
    "from mpl_toolkits.mplot3d import Axes3D\n",
    "from IPython.display import display,HTML\n",
    "%matplotlib inline"
   ]
  },
  {
   "cell_type": "markdown",
   "metadata": {},
   "source": [
    "## 役立つリンク集\n",
    "- https://hibiki-press.tech/learn_prog/python/format/1015#format\n",
    "- https://qiita.com/NTeTN/items/ae973bfedfff248e4de6"
   ]
  },
  {
   "cell_type": "code",
   "execution_count": 221,
   "metadata": {},
   "outputs": [],
   "source": [
    "pd.options.display.float_format = '{:.2f}'.format"
   ]
  },
  {
   "cell_type": "code",
   "execution_count": 71,
   "metadata": {},
   "outputs": [],
   "source": [
    "read_file = \"./datasets/Newyork/AB_NYC_2019.csv\""
   ]
  },
  {
   "cell_type": "code",
   "execution_count": 72,
   "metadata": {},
   "outputs": [],
   "source": [
    "df = pd.read_csv('./datasets/Newyork/AB_NYC_2019.csv')"
   ]
  },
  {
   "cell_type": "code",
   "execution_count": 73,
   "metadata": {},
   "outputs": [
    {
     "data": {
      "text/html": [
       "<div>\n",
       "<style scoped>\n",
       "    .dataframe tbody tr th:only-of-type {\n",
       "        vertical-align: middle;\n",
       "    }\n",
       "\n",
       "    .dataframe tbody tr th {\n",
       "        vertical-align: top;\n",
       "    }\n",
       "\n",
       "    .dataframe thead th {\n",
       "        text-align: right;\n",
       "    }\n",
       "</style>\n",
       "<table border=\"1\" class=\"dataframe\">\n",
       "  <thead>\n",
       "    <tr style=\"text-align: right;\">\n",
       "      <th></th>\n",
       "      <th>id</th>\n",
       "      <th>name</th>\n",
       "      <th>host_id</th>\n",
       "      <th>host_name</th>\n",
       "      <th>neighbourhood_group</th>\n",
       "      <th>neighbourhood</th>\n",
       "      <th>latitude</th>\n",
       "      <th>longitude</th>\n",
       "      <th>room_type</th>\n",
       "      <th>price</th>\n",
       "      <th>minimum_nights</th>\n",
       "      <th>number_of_reviews</th>\n",
       "      <th>last_review</th>\n",
       "      <th>reviews_per_month</th>\n",
       "      <th>calculated_host_listings_count</th>\n",
       "      <th>availability_365</th>\n",
       "    </tr>\n",
       "  </thead>\n",
       "  <tbody>\n",
       "    <tr>\n",
       "      <td>0</td>\n",
       "      <td>2539</td>\n",
       "      <td>Clean &amp; quiet apt home by the park</td>\n",
       "      <td>2787</td>\n",
       "      <td>John</td>\n",
       "      <td>Brooklyn</td>\n",
       "      <td>Kensington</td>\n",
       "      <td>40.64749</td>\n",
       "      <td>-73.97237</td>\n",
       "      <td>Private room</td>\n",
       "      <td>149</td>\n",
       "      <td>1</td>\n",
       "      <td>9</td>\n",
       "      <td>2018-10-19</td>\n",
       "      <td>0.21</td>\n",
       "      <td>6</td>\n",
       "      <td>365</td>\n",
       "    </tr>\n",
       "    <tr>\n",
       "      <td>1</td>\n",
       "      <td>2595</td>\n",
       "      <td>Skylit Midtown Castle</td>\n",
       "      <td>2845</td>\n",
       "      <td>Jennifer</td>\n",
       "      <td>Manhattan</td>\n",
       "      <td>Midtown</td>\n",
       "      <td>40.75362</td>\n",
       "      <td>-73.98377</td>\n",
       "      <td>Entire home/apt</td>\n",
       "      <td>225</td>\n",
       "      <td>1</td>\n",
       "      <td>45</td>\n",
       "      <td>2019-05-21</td>\n",
       "      <td>0.38</td>\n",
       "      <td>2</td>\n",
       "      <td>355</td>\n",
       "    </tr>\n",
       "    <tr>\n",
       "      <td>2</td>\n",
       "      <td>3647</td>\n",
       "      <td>THE VILLAGE OF HARLEM....NEW YORK !</td>\n",
       "      <td>4632</td>\n",
       "      <td>Elisabeth</td>\n",
       "      <td>Manhattan</td>\n",
       "      <td>Harlem</td>\n",
       "      <td>40.80902</td>\n",
       "      <td>-73.94190</td>\n",
       "      <td>Private room</td>\n",
       "      <td>150</td>\n",
       "      <td>3</td>\n",
       "      <td>0</td>\n",
       "      <td>NaN</td>\n",
       "      <td>NaN</td>\n",
       "      <td>1</td>\n",
       "      <td>365</td>\n",
       "    </tr>\n",
       "    <tr>\n",
       "      <td>3</td>\n",
       "      <td>3831</td>\n",
       "      <td>Cozy Entire Floor of Brownstone</td>\n",
       "      <td>4869</td>\n",
       "      <td>LisaRoxanne</td>\n",
       "      <td>Brooklyn</td>\n",
       "      <td>Clinton Hill</td>\n",
       "      <td>40.68514</td>\n",
       "      <td>-73.95976</td>\n",
       "      <td>Entire home/apt</td>\n",
       "      <td>89</td>\n",
       "      <td>1</td>\n",
       "      <td>270</td>\n",
       "      <td>2019-07-05</td>\n",
       "      <td>4.64</td>\n",
       "      <td>1</td>\n",
       "      <td>194</td>\n",
       "    </tr>\n",
       "    <tr>\n",
       "      <td>4</td>\n",
       "      <td>5022</td>\n",
       "      <td>Entire Apt: Spacious Studio/Loft by central park</td>\n",
       "      <td>7192</td>\n",
       "      <td>Laura</td>\n",
       "      <td>Manhattan</td>\n",
       "      <td>East Harlem</td>\n",
       "      <td>40.79851</td>\n",
       "      <td>-73.94399</td>\n",
       "      <td>Entire home/apt</td>\n",
       "      <td>80</td>\n",
       "      <td>10</td>\n",
       "      <td>9</td>\n",
       "      <td>2018-11-19</td>\n",
       "      <td>0.10</td>\n",
       "      <td>1</td>\n",
       "      <td>0</td>\n",
       "    </tr>\n",
       "  </tbody>\n",
       "</table>\n",
       "</div>"
      ],
      "text/plain": [
       "     id                                              name  host_id  \\\n",
       "0  2539                Clean & quiet apt home by the park     2787   \n",
       "1  2595                             Skylit Midtown Castle     2845   \n",
       "2  3647               THE VILLAGE OF HARLEM....NEW YORK !     4632   \n",
       "3  3831                   Cozy Entire Floor of Brownstone     4869   \n",
       "4  5022  Entire Apt: Spacious Studio/Loft by central park     7192   \n",
       "\n",
       "     host_name neighbourhood_group neighbourhood  latitude  longitude  \\\n",
       "0         John            Brooklyn    Kensington  40.64749  -73.97237   \n",
       "1     Jennifer           Manhattan       Midtown  40.75362  -73.98377   \n",
       "2    Elisabeth           Manhattan        Harlem  40.80902  -73.94190   \n",
       "3  LisaRoxanne            Brooklyn  Clinton Hill  40.68514  -73.95976   \n",
       "4        Laura           Manhattan   East Harlem  40.79851  -73.94399   \n",
       "\n",
       "         room_type  price  minimum_nights  number_of_reviews last_review  \\\n",
       "0     Private room    149               1                  9  2018-10-19   \n",
       "1  Entire home/apt    225               1                 45  2019-05-21   \n",
       "2     Private room    150               3                  0         NaN   \n",
       "3  Entire home/apt     89               1                270  2019-07-05   \n",
       "4  Entire home/apt     80              10                  9  2018-11-19   \n",
       "\n",
       "   reviews_per_month  calculated_host_listings_count  availability_365  \n",
       "0               0.21                               6               365  \n",
       "1               0.38                               2               355  \n",
       "2                NaN                               1               365  \n",
       "3               4.64                               1               194  \n",
       "4               0.10                               1                 0  "
      ]
     },
     "execution_count": 73,
     "metadata": {},
     "output_type": "execute_result"
    }
   ],
   "source": [
    "df.head()"
   ]
  },
  {
   "cell_type": "code",
   "execution_count": 104,
   "metadata": {},
   "outputs": [
    {
     "data": {
      "text/plain": [
       "id                                  int64\n",
       "name                               object\n",
       "host_id                             int64\n",
       "host_name                          object\n",
       "neighbourhood_group                object\n",
       "neighbourhood                      object\n",
       "latitude                          float64\n",
       "longitude                         float64\n",
       "room_type                          object\n",
       "price                               int64\n",
       "minimum_nights                      int64\n",
       "number_of_reviews                   int64\n",
       "last_review                       float64\n",
       "reviews_per_month                 float64\n",
       "calculated_host_listings_count      int64\n",
       "availability_365                    int64\n",
       "dtype: object"
      ]
     },
     "execution_count": 104,
     "metadata": {},
     "output_type": "execute_result"
    }
   ],
   "source": [
    "df.dtypes"
   ]
  },
  {
   "cell_type": "code",
   "execution_count": 105,
   "metadata": {},
   "outputs": [
    {
     "data": {
      "text/plain": [
       "id                                    0\n",
       "name                                 16\n",
       "host_id                               0\n",
       "host_name                            21\n",
       "neighbourhood_group                   0\n",
       "neighbourhood                         0\n",
       "latitude                              0\n",
       "longitude                             0\n",
       "room_type                             0\n",
       "price                                 0\n",
       "minimum_nights                        0\n",
       "number_of_reviews                     0\n",
       "last_review                       10052\n",
       "reviews_per_month                 10052\n",
       "calculated_host_listings_count        0\n",
       "availability_365                      0\n",
       "dtype: int64"
      ]
     },
     "execution_count": 105,
     "metadata": {},
     "output_type": "execute_result"
    }
   ],
   "source": [
    "df.isnull().sum()"
   ]
  },
  {
   "cell_type": "markdown",
   "metadata": {},
   "source": [
    "## 欠損値補完"
   ]
  },
  {
   "cell_type": "markdown",
   "metadata": {},
   "source": [
    "### Name"
   ]
  },
  {
   "cell_type": "markdown",
   "metadata": {},
   "source": [
    "- i think if item have same pair of (longitude and latitude) then same"
   ]
  },
  {
   "cell_type": "code",
   "execution_count": 24,
   "metadata": {},
   "outputs": [
    {
     "data": {
      "text/html": [
       "<div>\n",
       "<style scoped>\n",
       "    .dataframe tbody tr th:only-of-type {\n",
       "        vertical-align: middle;\n",
       "    }\n",
       "\n",
       "    .dataframe tbody tr th {\n",
       "        vertical-align: top;\n",
       "    }\n",
       "\n",
       "    .dataframe thead th {\n",
       "        text-align: right;\n",
       "    }\n",
       "</style>\n",
       "<table border=\"1\" class=\"dataframe\">\n",
       "  <thead>\n",
       "    <tr style=\"text-align: right;\">\n",
       "      <th></th>\n",
       "      <th>id</th>\n",
       "      <th>name</th>\n",
       "      <th>host_id</th>\n",
       "      <th>host_name</th>\n",
       "      <th>neighbourhood_group</th>\n",
       "      <th>neighbourhood</th>\n",
       "      <th>latitude</th>\n",
       "      <th>longitude</th>\n",
       "      <th>room_type</th>\n",
       "      <th>price</th>\n",
       "      <th>minimum_nights</th>\n",
       "      <th>number_of_reviews</th>\n",
       "      <th>last_review</th>\n",
       "      <th>reviews_per_month</th>\n",
       "      <th>calculated_host_listings_count</th>\n",
       "      <th>availability_365</th>\n",
       "    </tr>\n",
       "  </thead>\n",
       "  <tbody>\n",
       "    <tr>\n",
       "      <td>2854</td>\n",
       "      <td>1615764</td>\n",
       "      <td>NaN</td>\n",
       "      <td>6676776</td>\n",
       "      <td>Peter</td>\n",
       "      <td>Manhattan</td>\n",
       "      <td>Battery Park City</td>\n",
       "      <td>40.71239</td>\n",
       "      <td>-74.01620</td>\n",
       "      <td>Entire home/apt</td>\n",
       "      <td>400</td>\n",
       "      <td>1000</td>\n",
       "      <td>0</td>\n",
       "      <td>NaN</td>\n",
       "      <td>NaN</td>\n",
       "      <td>1</td>\n",
       "      <td>362</td>\n",
       "    </tr>\n",
       "    <tr>\n",
       "      <td>3703</td>\n",
       "      <td>2232600</td>\n",
       "      <td>NaN</td>\n",
       "      <td>11395220</td>\n",
       "      <td>Anna</td>\n",
       "      <td>Manhattan</td>\n",
       "      <td>East Village</td>\n",
       "      <td>40.73215</td>\n",
       "      <td>-73.98821</td>\n",
       "      <td>Entire home/apt</td>\n",
       "      <td>200</td>\n",
       "      <td>1</td>\n",
       "      <td>28</td>\n",
       "      <td>2015-06-08</td>\n",
       "      <td>0.45</td>\n",
       "      <td>1</td>\n",
       "      <td>341</td>\n",
       "    </tr>\n",
       "    <tr>\n",
       "      <td>5775</td>\n",
       "      <td>4209595</td>\n",
       "      <td>NaN</td>\n",
       "      <td>20700823</td>\n",
       "      <td>Jesse</td>\n",
       "      <td>Manhattan</td>\n",
       "      <td>Greenwich Village</td>\n",
       "      <td>40.73473</td>\n",
       "      <td>-73.99244</td>\n",
       "      <td>Entire home/apt</td>\n",
       "      <td>225</td>\n",
       "      <td>1</td>\n",
       "      <td>1</td>\n",
       "      <td>2015-01-01</td>\n",
       "      <td>0.02</td>\n",
       "      <td>1</td>\n",
       "      <td>0</td>\n",
       "    </tr>\n",
       "    <tr>\n",
       "      <td>5975</td>\n",
       "      <td>4370230</td>\n",
       "      <td>NaN</td>\n",
       "      <td>22686810</td>\n",
       "      <td>Michaël</td>\n",
       "      <td>Manhattan</td>\n",
       "      <td>Nolita</td>\n",
       "      <td>40.72046</td>\n",
       "      <td>-73.99550</td>\n",
       "      <td>Entire home/apt</td>\n",
       "      <td>215</td>\n",
       "      <td>7</td>\n",
       "      <td>5</td>\n",
       "      <td>2016-01-02</td>\n",
       "      <td>0.09</td>\n",
       "      <td>1</td>\n",
       "      <td>0</td>\n",
       "    </tr>\n",
       "    <tr>\n",
       "      <td>6269</td>\n",
       "      <td>4581788</td>\n",
       "      <td>NaN</td>\n",
       "      <td>21600904</td>\n",
       "      <td>Lucie</td>\n",
       "      <td>Brooklyn</td>\n",
       "      <td>Williamsburg</td>\n",
       "      <td>40.71370</td>\n",
       "      <td>-73.94378</td>\n",
       "      <td>Private room</td>\n",
       "      <td>150</td>\n",
       "      <td>1</td>\n",
       "      <td>0</td>\n",
       "      <td>NaN</td>\n",
       "      <td>NaN</td>\n",
       "      <td>1</td>\n",
       "      <td>0</td>\n",
       "    </tr>\n",
       "    <tr>\n",
       "      <td>6567</td>\n",
       "      <td>4756856</td>\n",
       "      <td>NaN</td>\n",
       "      <td>1832442</td>\n",
       "      <td>Carolina</td>\n",
       "      <td>Brooklyn</td>\n",
       "      <td>Bushwick</td>\n",
       "      <td>40.70046</td>\n",
       "      <td>-73.92825</td>\n",
       "      <td>Private room</td>\n",
       "      <td>70</td>\n",
       "      <td>1</td>\n",
       "      <td>0</td>\n",
       "      <td>NaN</td>\n",
       "      <td>NaN</td>\n",
       "      <td>1</td>\n",
       "      <td>0</td>\n",
       "    </tr>\n",
       "    <tr>\n",
       "      <td>6605</td>\n",
       "      <td>4774658</td>\n",
       "      <td>NaN</td>\n",
       "      <td>24625694</td>\n",
       "      <td>Josh</td>\n",
       "      <td>Manhattan</td>\n",
       "      <td>Washington Heights</td>\n",
       "      <td>40.85198</td>\n",
       "      <td>-73.93108</td>\n",
       "      <td>Private room</td>\n",
       "      <td>40</td>\n",
       "      <td>1</td>\n",
       "      <td>0</td>\n",
       "      <td>NaN</td>\n",
       "      <td>NaN</td>\n",
       "      <td>1</td>\n",
       "      <td>0</td>\n",
       "    </tr>\n",
       "    <tr>\n",
       "      <td>8841</td>\n",
       "      <td>6782407</td>\n",
       "      <td>NaN</td>\n",
       "      <td>31147528</td>\n",
       "      <td>Huei-Yin</td>\n",
       "      <td>Brooklyn</td>\n",
       "      <td>Williamsburg</td>\n",
       "      <td>40.71354</td>\n",
       "      <td>-73.93882</td>\n",
       "      <td>Private room</td>\n",
       "      <td>45</td>\n",
       "      <td>1</td>\n",
       "      <td>0</td>\n",
       "      <td>NaN</td>\n",
       "      <td>NaN</td>\n",
       "      <td>1</td>\n",
       "      <td>0</td>\n",
       "    </tr>\n",
       "    <tr>\n",
       "      <td>11963</td>\n",
       "      <td>9325951</td>\n",
       "      <td>NaN</td>\n",
       "      <td>33377685</td>\n",
       "      <td>Jonathan</td>\n",
       "      <td>Manhattan</td>\n",
       "      <td>Hell's Kitchen</td>\n",
       "      <td>40.76436</td>\n",
       "      <td>-73.98573</td>\n",
       "      <td>Entire home/apt</td>\n",
       "      <td>190</td>\n",
       "      <td>4</td>\n",
       "      <td>1</td>\n",
       "      <td>2016-01-05</td>\n",
       "      <td>0.02</td>\n",
       "      <td>1</td>\n",
       "      <td>0</td>\n",
       "    </tr>\n",
       "    <tr>\n",
       "      <td>12824</td>\n",
       "      <td>9787590</td>\n",
       "      <td>NaN</td>\n",
       "      <td>50448556</td>\n",
       "      <td>Miguel</td>\n",
       "      <td>Manhattan</td>\n",
       "      <td>Harlem</td>\n",
       "      <td>40.80316</td>\n",
       "      <td>-73.95189</td>\n",
       "      <td>Entire home/apt</td>\n",
       "      <td>300</td>\n",
       "      <td>5</td>\n",
       "      <td>0</td>\n",
       "      <td>NaN</td>\n",
       "      <td>NaN</td>\n",
       "      <td>5</td>\n",
       "      <td>0</td>\n",
       "    </tr>\n",
       "    <tr>\n",
       "      <td>13059</td>\n",
       "      <td>9885866</td>\n",
       "      <td>NaN</td>\n",
       "      <td>37306329</td>\n",
       "      <td>Juliette</td>\n",
       "      <td>Manhattan</td>\n",
       "      <td>Chinatown</td>\n",
       "      <td>40.71632</td>\n",
       "      <td>-73.99328</td>\n",
       "      <td>Private room</td>\n",
       "      <td>67</td>\n",
       "      <td>4</td>\n",
       "      <td>0</td>\n",
       "      <td>NaN</td>\n",
       "      <td>NaN</td>\n",
       "      <td>1</td>\n",
       "      <td>0</td>\n",
       "    </tr>\n",
       "    <tr>\n",
       "      <td>13401</td>\n",
       "      <td>10052289</td>\n",
       "      <td>NaN</td>\n",
       "      <td>49522403</td>\n",
       "      <td>Vanessa</td>\n",
       "      <td>Brooklyn</td>\n",
       "      <td>Brownsville</td>\n",
       "      <td>40.66409</td>\n",
       "      <td>-73.92314</td>\n",
       "      <td>Private room</td>\n",
       "      <td>50</td>\n",
       "      <td>3</td>\n",
       "      <td>3</td>\n",
       "      <td>2016-08-18</td>\n",
       "      <td>0.07</td>\n",
       "      <td>1</td>\n",
       "      <td>362</td>\n",
       "    </tr>\n",
       "    <tr>\n",
       "      <td>15819</td>\n",
       "      <td>12797684</td>\n",
       "      <td>NaN</td>\n",
       "      <td>69715276</td>\n",
       "      <td>Yan</td>\n",
       "      <td>Manhattan</td>\n",
       "      <td>Upper West Side</td>\n",
       "      <td>40.79843</td>\n",
       "      <td>-73.96404</td>\n",
       "      <td>Private room</td>\n",
       "      <td>100</td>\n",
       "      <td>1</td>\n",
       "      <td>0</td>\n",
       "      <td>NaN</td>\n",
       "      <td>NaN</td>\n",
       "      <td>2</td>\n",
       "      <td>0</td>\n",
       "    </tr>\n",
       "    <tr>\n",
       "      <td>16071</td>\n",
       "      <td>12988898</td>\n",
       "      <td>NaN</td>\n",
       "      <td>71552588</td>\n",
       "      <td>Andrea</td>\n",
       "      <td>Bronx</td>\n",
       "      <td>Fordham</td>\n",
       "      <td>40.86032</td>\n",
       "      <td>-73.88493</td>\n",
       "      <td>Shared room</td>\n",
       "      <td>130</td>\n",
       "      <td>1</td>\n",
       "      <td>0</td>\n",
       "      <td>NaN</td>\n",
       "      <td>NaN</td>\n",
       "      <td>1</td>\n",
       "      <td>365</td>\n",
       "    </tr>\n",
       "    <tr>\n",
       "      <td>18047</td>\n",
       "      <td>14135050</td>\n",
       "      <td>NaN</td>\n",
       "      <td>85288337</td>\n",
       "      <td>Jeff</td>\n",
       "      <td>Brooklyn</td>\n",
       "      <td>Bedford-Stuyvesant</td>\n",
       "      <td>40.69421</td>\n",
       "      <td>-73.93234</td>\n",
       "      <td>Private room</td>\n",
       "      <td>70</td>\n",
       "      <td>3</td>\n",
       "      <td>0</td>\n",
       "      <td>NaN</td>\n",
       "      <td>NaN</td>\n",
       "      <td>1</td>\n",
       "      <td>0</td>\n",
       "    </tr>\n",
       "    <tr>\n",
       "      <td>28889</td>\n",
       "      <td>22275821</td>\n",
       "      <td>NaN</td>\n",
       "      <td>49662398</td>\n",
       "      <td>Kathleen</td>\n",
       "      <td>Brooklyn</td>\n",
       "      <td>Bushwick</td>\n",
       "      <td>40.69546</td>\n",
       "      <td>-73.92741</td>\n",
       "      <td>Entire home/apt</td>\n",
       "      <td>110</td>\n",
       "      <td>4</td>\n",
       "      <td>5</td>\n",
       "      <td>2018-08-13</td>\n",
       "      <td>0.27</td>\n",
       "      <td>1</td>\n",
       "      <td>0</td>\n",
       "    </tr>\n",
       "  </tbody>\n",
       "</table>\n",
       "</div>"
      ],
      "text/plain": [
       "             id name   host_id host_name neighbourhood_group  \\\n",
       "2854    1615764  NaN   6676776     Peter           Manhattan   \n",
       "3703    2232600  NaN  11395220      Anna           Manhattan   \n",
       "5775    4209595  NaN  20700823     Jesse           Manhattan   \n",
       "5975    4370230  NaN  22686810   Michaël           Manhattan   \n",
       "6269    4581788  NaN  21600904     Lucie            Brooklyn   \n",
       "6567    4756856  NaN   1832442  Carolina            Brooklyn   \n",
       "6605    4774658  NaN  24625694      Josh           Manhattan   \n",
       "8841    6782407  NaN  31147528  Huei-Yin            Brooklyn   \n",
       "11963   9325951  NaN  33377685  Jonathan           Manhattan   \n",
       "12824   9787590  NaN  50448556    Miguel           Manhattan   \n",
       "13059   9885866  NaN  37306329  Juliette           Manhattan   \n",
       "13401  10052289  NaN  49522403   Vanessa            Brooklyn   \n",
       "15819  12797684  NaN  69715276       Yan           Manhattan   \n",
       "16071  12988898  NaN  71552588    Andrea               Bronx   \n",
       "18047  14135050  NaN  85288337      Jeff            Brooklyn   \n",
       "28889  22275821  NaN  49662398  Kathleen            Brooklyn   \n",
       "\n",
       "            neighbourhood  latitude  longitude        room_type  price  \\\n",
       "2854    Battery Park City  40.71239  -74.01620  Entire home/apt    400   \n",
       "3703         East Village  40.73215  -73.98821  Entire home/apt    200   \n",
       "5775    Greenwich Village  40.73473  -73.99244  Entire home/apt    225   \n",
       "5975               Nolita  40.72046  -73.99550  Entire home/apt    215   \n",
       "6269         Williamsburg  40.71370  -73.94378     Private room    150   \n",
       "6567             Bushwick  40.70046  -73.92825     Private room     70   \n",
       "6605   Washington Heights  40.85198  -73.93108     Private room     40   \n",
       "8841         Williamsburg  40.71354  -73.93882     Private room     45   \n",
       "11963      Hell's Kitchen  40.76436  -73.98573  Entire home/apt    190   \n",
       "12824              Harlem  40.80316  -73.95189  Entire home/apt    300   \n",
       "13059           Chinatown  40.71632  -73.99328     Private room     67   \n",
       "13401         Brownsville  40.66409  -73.92314     Private room     50   \n",
       "15819     Upper West Side  40.79843  -73.96404     Private room    100   \n",
       "16071             Fordham  40.86032  -73.88493      Shared room    130   \n",
       "18047  Bedford-Stuyvesant  40.69421  -73.93234     Private room     70   \n",
       "28889            Bushwick  40.69546  -73.92741  Entire home/apt    110   \n",
       "\n",
       "       minimum_nights  number_of_reviews last_review  reviews_per_month  \\\n",
       "2854             1000                  0         NaN                NaN   \n",
       "3703                1                 28  2015-06-08               0.45   \n",
       "5775                1                  1  2015-01-01               0.02   \n",
       "5975                7                  5  2016-01-02               0.09   \n",
       "6269                1                  0         NaN                NaN   \n",
       "6567                1                  0         NaN                NaN   \n",
       "6605                1                  0         NaN                NaN   \n",
       "8841                1                  0         NaN                NaN   \n",
       "11963               4                  1  2016-01-05               0.02   \n",
       "12824               5                  0         NaN                NaN   \n",
       "13059               4                  0         NaN                NaN   \n",
       "13401               3                  3  2016-08-18               0.07   \n",
       "15819               1                  0         NaN                NaN   \n",
       "16071               1                  0         NaN                NaN   \n",
       "18047               3                  0         NaN                NaN   \n",
       "28889               4                  5  2018-08-13               0.27   \n",
       "\n",
       "       calculated_host_listings_count  availability_365  \n",
       "2854                                1               362  \n",
       "3703                                1               341  \n",
       "5775                                1                 0  \n",
       "5975                                1                 0  \n",
       "6269                                1                 0  \n",
       "6567                                1                 0  \n",
       "6605                                1                 0  \n",
       "8841                                1                 0  \n",
       "11963                               1                 0  \n",
       "12824                               5                 0  \n",
       "13059                               1                 0  \n",
       "13401                               1               362  \n",
       "15819                               2                 0  \n",
       "16071                               1               365  \n",
       "18047                               1                 0  \n",
       "28889                               1                 0  "
      ]
     },
     "execution_count": 24,
     "metadata": {},
     "output_type": "execute_result"
    }
   ],
   "source": [
    "df[df.name.isnull()]"
   ]
  },
  {
   "cell_type": "code",
   "execution_count": 32,
   "metadata": {},
   "outputs": [
    {
     "data": {
      "text/plain": [
       "Series([], Name: id, dtype: int64)"
      ]
     },
     "execution_count": 32,
     "metadata": {},
     "output_type": "execute_result"
    }
   ],
   "source": [
    "df[df.name.isnull()].groupby(['latitude','longitude']).count()['id']"
   ]
  },
  {
   "cell_type": "markdown",
   "metadata": {},
   "source": [
    "- 名前はユニークに保管"
   ]
  },
  {
   "cell_type": "code",
   "execution_count": 29,
   "metadata": {},
   "outputs": [],
   "source": [
    "df.loc[df.name.isnull(),'name'] = pd.Series([ 'name_'+str(_i) for _i in range(len(df.name.isnull()))])"
   ]
  },
  {
   "cell_type": "markdown",
   "metadata": {},
   "source": [
    "### host name\n",
    "- similar to name"
   ]
  },
  {
   "cell_type": "code",
   "execution_count": 34,
   "metadata": {},
   "outputs": [
    {
     "data": {
      "text/html": [
       "<div>\n",
       "<style scoped>\n",
       "    .dataframe tbody tr th:only-of-type {\n",
       "        vertical-align: middle;\n",
       "    }\n",
       "\n",
       "    .dataframe tbody tr th {\n",
       "        vertical-align: top;\n",
       "    }\n",
       "\n",
       "    .dataframe thead th {\n",
       "        text-align: right;\n",
       "    }\n",
       "</style>\n",
       "<table border=\"1\" class=\"dataframe\">\n",
       "  <thead>\n",
       "    <tr style=\"text-align: right;\">\n",
       "      <th></th>\n",
       "      <th>id</th>\n",
       "      <th>name</th>\n",
       "      <th>host_id</th>\n",
       "      <th>host_name</th>\n",
       "      <th>neighbourhood_group</th>\n",
       "      <th>neighbourhood</th>\n",
       "      <th>latitude</th>\n",
       "      <th>longitude</th>\n",
       "      <th>room_type</th>\n",
       "      <th>price</th>\n",
       "      <th>minimum_nights</th>\n",
       "      <th>number_of_reviews</th>\n",
       "      <th>last_review</th>\n",
       "      <th>reviews_per_month</th>\n",
       "      <th>calculated_host_listings_count</th>\n",
       "      <th>availability_365</th>\n",
       "    </tr>\n",
       "  </thead>\n",
       "  <tbody>\n",
       "    <tr>\n",
       "      <td>360</td>\n",
       "      <td>100184</td>\n",
       "      <td>Bienvenue</td>\n",
       "      <td>526653</td>\n",
       "      <td>NaN</td>\n",
       "      <td>Queens</td>\n",
       "      <td>Queens Village</td>\n",
       "      <td>40.72413</td>\n",
       "      <td>-73.76133</td>\n",
       "      <td>Private room</td>\n",
       "      <td>50</td>\n",
       "      <td>1</td>\n",
       "      <td>43</td>\n",
       "      <td>2019-07-08</td>\n",
       "      <td>0.45</td>\n",
       "      <td>1</td>\n",
       "      <td>88</td>\n",
       "    </tr>\n",
       "    <tr>\n",
       "      <td>2700</td>\n",
       "      <td>1449546</td>\n",
       "      <td>Cozy Studio in Flatbush</td>\n",
       "      <td>7779204</td>\n",
       "      <td>NaN</td>\n",
       "      <td>Brooklyn</td>\n",
       "      <td>Flatbush</td>\n",
       "      <td>40.64965</td>\n",
       "      <td>-73.96154</td>\n",
       "      <td>Entire home/apt</td>\n",
       "      <td>100</td>\n",
       "      <td>30</td>\n",
       "      <td>49</td>\n",
       "      <td>2017-01-02</td>\n",
       "      <td>0.69</td>\n",
       "      <td>1</td>\n",
       "      <td>342</td>\n",
       "    </tr>\n",
       "    <tr>\n",
       "      <td>5745</td>\n",
       "      <td>4183989</td>\n",
       "      <td>SPRING in the City!! Zen-Style Tranquil Bedroom</td>\n",
       "      <td>919218</td>\n",
       "      <td>NaN</td>\n",
       "      <td>Manhattan</td>\n",
       "      <td>Harlem</td>\n",
       "      <td>40.80606</td>\n",
       "      <td>-73.95061</td>\n",
       "      <td>Private room</td>\n",
       "      <td>86</td>\n",
       "      <td>3</td>\n",
       "      <td>34</td>\n",
       "      <td>2019-05-23</td>\n",
       "      <td>1.00</td>\n",
       "      <td>1</td>\n",
       "      <td>359</td>\n",
       "    </tr>\n",
       "    <tr>\n",
       "      <td>6075</td>\n",
       "      <td>4446862</td>\n",
       "      <td>Charming Room in Prospect Heights!</td>\n",
       "      <td>23077718</td>\n",
       "      <td>NaN</td>\n",
       "      <td>Brooklyn</td>\n",
       "      <td>Crown Heights</td>\n",
       "      <td>40.67512</td>\n",
       "      <td>-73.96146</td>\n",
       "      <td>Private room</td>\n",
       "      <td>50</td>\n",
       "      <td>1</td>\n",
       "      <td>0</td>\n",
       "      <td>NaN</td>\n",
       "      <td>NaN</td>\n",
       "      <td>1</td>\n",
       "      <td>0</td>\n",
       "    </tr>\n",
       "    <tr>\n",
       "      <td>6582</td>\n",
       "      <td>4763327</td>\n",
       "      <td>Luxurious, best location, spa inc'l</td>\n",
       "      <td>24576978</td>\n",
       "      <td>NaN</td>\n",
       "      <td>Brooklyn</td>\n",
       "      <td>Greenpoint</td>\n",
       "      <td>40.72035</td>\n",
       "      <td>-73.95355</td>\n",
       "      <td>Entire home/apt</td>\n",
       "      <td>195</td>\n",
       "      <td>1</td>\n",
       "      <td>1</td>\n",
       "      <td>2015-10-20</td>\n",
       "      <td>0.02</td>\n",
       "      <td>1</td>\n",
       "      <td>0</td>\n",
       "    </tr>\n",
       "    <tr>\n",
       "      <td>8163</td>\n",
       "      <td>6292866</td>\n",
       "      <td>Modern Quiet Gem Near All</td>\n",
       "      <td>32722063</td>\n",
       "      <td>NaN</td>\n",
       "      <td>Brooklyn</td>\n",
       "      <td>East Flatbush</td>\n",
       "      <td>40.65263</td>\n",
       "      <td>-73.93215</td>\n",
       "      <td>Entire home/apt</td>\n",
       "      <td>85</td>\n",
       "      <td>2</td>\n",
       "      <td>182</td>\n",
       "      <td>2019-06-19</td>\n",
       "      <td>3.59</td>\n",
       "      <td>2</td>\n",
       "      <td>318</td>\n",
       "    </tr>\n",
       "    <tr>\n",
       "      <td>8257</td>\n",
       "      <td>6360224</td>\n",
       "      <td>Sunny, Private room in Bushwick</td>\n",
       "      <td>33134899</td>\n",
       "      <td>NaN</td>\n",
       "      <td>Brooklyn</td>\n",
       "      <td>Bushwick</td>\n",
       "      <td>40.70146</td>\n",
       "      <td>-73.92792</td>\n",
       "      <td>Private room</td>\n",
       "      <td>37</td>\n",
       "      <td>1</td>\n",
       "      <td>1</td>\n",
       "      <td>2015-07-01</td>\n",
       "      <td>0.02</td>\n",
       "      <td>1</td>\n",
       "      <td>0</td>\n",
       "    </tr>\n",
       "    <tr>\n",
       "      <td>8852</td>\n",
       "      <td>6786181</td>\n",
       "      <td>R&amp;S Modern Spacious Hideaway</td>\n",
       "      <td>32722063</td>\n",
       "      <td>NaN</td>\n",
       "      <td>Brooklyn</td>\n",
       "      <td>East Flatbush</td>\n",
       "      <td>40.64345</td>\n",
       "      <td>-73.93643</td>\n",
       "      <td>Entire home/apt</td>\n",
       "      <td>100</td>\n",
       "      <td>2</td>\n",
       "      <td>157</td>\n",
       "      <td>2019-06-19</td>\n",
       "      <td>3.18</td>\n",
       "      <td>2</td>\n",
       "      <td>342</td>\n",
       "    </tr>\n",
       "    <tr>\n",
       "      <td>9138</td>\n",
       "      <td>6992973</td>\n",
       "      <td>1 Bedroom in Prime Williamsburg</td>\n",
       "      <td>5162530</td>\n",
       "      <td>NaN</td>\n",
       "      <td>Brooklyn</td>\n",
       "      <td>Williamsburg</td>\n",
       "      <td>40.71838</td>\n",
       "      <td>-73.95630</td>\n",
       "      <td>Entire home/apt</td>\n",
       "      <td>145</td>\n",
       "      <td>1</td>\n",
       "      <td>0</td>\n",
       "      <td>NaN</td>\n",
       "      <td>NaN</td>\n",
       "      <td>1</td>\n",
       "      <td>0</td>\n",
       "    </tr>\n",
       "    <tr>\n",
       "      <td>9817</td>\n",
       "      <td>7556587</td>\n",
       "      <td>Sunny Room in Harlem</td>\n",
       "      <td>39608626</td>\n",
       "      <td>NaN</td>\n",
       "      <td>Manhattan</td>\n",
       "      <td>Harlem</td>\n",
       "      <td>40.82929</td>\n",
       "      <td>-73.94182</td>\n",
       "      <td>Private room</td>\n",
       "      <td>28</td>\n",
       "      <td>1</td>\n",
       "      <td>1</td>\n",
       "      <td>2015-08-01</td>\n",
       "      <td>0.02</td>\n",
       "      <td>1</td>\n",
       "      <td>0</td>\n",
       "    </tr>\n",
       "    <tr>\n",
       "      <td>14040</td>\n",
       "      <td>10709846</td>\n",
       "      <td>Sunny, spacious room in Greenpoint</td>\n",
       "      <td>7822683</td>\n",
       "      <td>NaN</td>\n",
       "      <td>Brooklyn</td>\n",
       "      <td>Greenpoint</td>\n",
       "      <td>40.73539</td>\n",
       "      <td>-73.95838</td>\n",
       "      <td>Private room</td>\n",
       "      <td>55</td>\n",
       "      <td>10</td>\n",
       "      <td>2</td>\n",
       "      <td>2016-11-05</td>\n",
       "      <td>0.05</td>\n",
       "      <td>1</td>\n",
       "      <td>0</td>\n",
       "    </tr>\n",
       "    <tr>\n",
       "      <td>14631</td>\n",
       "      <td>11553543</td>\n",
       "      <td>Cozy Room Astoria</td>\n",
       "      <td>26138712</td>\n",
       "      <td>NaN</td>\n",
       "      <td>Queens</td>\n",
       "      <td>Ditmars Steinway</td>\n",
       "      <td>40.77587</td>\n",
       "      <td>-73.91775</td>\n",
       "      <td>Private room</td>\n",
       "      <td>45</td>\n",
       "      <td>1</td>\n",
       "      <td>5</td>\n",
       "      <td>2017-01-01</td>\n",
       "      <td>0.13</td>\n",
       "      <td>1</td>\n",
       "      <td>0</td>\n",
       "    </tr>\n",
       "    <tr>\n",
       "      <td>15174</td>\n",
       "      <td>12113879</td>\n",
       "      <td>Sunny, Large West Village 1 BR Near Everything</td>\n",
       "      <td>5300585</td>\n",
       "      <td>NaN</td>\n",
       "      <td>Manhattan</td>\n",
       "      <td>Chelsea</td>\n",
       "      <td>40.73949</td>\n",
       "      <td>-73.99801</td>\n",
       "      <td>Entire home/apt</td>\n",
       "      <td>220</td>\n",
       "      <td>4</td>\n",
       "      <td>81</td>\n",
       "      <td>2019-07-02</td>\n",
       "      <td>2.11</td>\n",
       "      <td>1</td>\n",
       "      <td>217</td>\n",
       "    </tr>\n",
       "    <tr>\n",
       "      <td>19565</td>\n",
       "      <td>15648096</td>\n",
       "      <td>Spacious 2 bedroom close to Manhattan</td>\n",
       "      <td>100971588</td>\n",
       "      <td>NaN</td>\n",
       "      <td>Bronx</td>\n",
       "      <td>Highbridge</td>\n",
       "      <td>40.83844</td>\n",
       "      <td>-73.92489</td>\n",
       "      <td>Entire home/apt</td>\n",
       "      <td>75</td>\n",
       "      <td>4</td>\n",
       "      <td>37</td>\n",
       "      <td>2019-07-07</td>\n",
       "      <td>1.21</td>\n",
       "      <td>1</td>\n",
       "      <td>26</td>\n",
       "    </tr>\n",
       "    <tr>\n",
       "      <td>27777</td>\n",
       "      <td>21787094</td>\n",
       "      <td>Spacious and Bright Midtown East Apartment</td>\n",
       "      <td>415290</td>\n",
       "      <td>NaN</td>\n",
       "      <td>Manhattan</td>\n",
       "      <td>Upper East Side</td>\n",
       "      <td>40.76436</td>\n",
       "      <td>-73.96836</td>\n",
       "      <td>Entire home/apt</td>\n",
       "      <td>325</td>\n",
       "      <td>1</td>\n",
       "      <td>0</td>\n",
       "      <td>NaN</td>\n",
       "      <td>NaN</td>\n",
       "      <td>1</td>\n",
       "      <td>0</td>\n",
       "    </tr>\n",
       "    <tr>\n",
       "      <td>27962</td>\n",
       "      <td>21867710</td>\n",
       "      <td>Amazing room in the centre on Manhatten! Welcome!</td>\n",
       "      <td>159156636</td>\n",
       "      <td>NaN</td>\n",
       "      <td>Manhattan</td>\n",
       "      <td>Hell's Kitchen</td>\n",
       "      <td>40.75668</td>\n",
       "      <td>-73.99097</td>\n",
       "      <td>Private room</td>\n",
       "      <td>120</td>\n",
       "      <td>1</td>\n",
       "      <td>89</td>\n",
       "      <td>2019-01-01</td>\n",
       "      <td>5.16</td>\n",
       "      <td>3</td>\n",
       "      <td>0</td>\n",
       "    </tr>\n",
       "    <tr>\n",
       "      <td>28042</td>\n",
       "      <td>21901156</td>\n",
       "      <td>Best Deal! Lovely place in Manhattan! Time Squ...</td>\n",
       "      <td>159156636</td>\n",
       "      <td>NaN</td>\n",
       "      <td>Manhattan</td>\n",
       "      <td>Hell's Kitchen</td>\n",
       "      <td>40.75656</td>\n",
       "      <td>-73.99063</td>\n",
       "      <td>Private room</td>\n",
       "      <td>120</td>\n",
       "      <td>1</td>\n",
       "      <td>109</td>\n",
       "      <td>2019-01-01</td>\n",
       "      <td>5.97</td>\n",
       "      <td>3</td>\n",
       "      <td>0</td>\n",
       "    </tr>\n",
       "    <tr>\n",
       "      <td>28274</td>\n",
       "      <td>21990808</td>\n",
       "      <td>***SLEEPING IN THE GOLDEN PLACE***</td>\n",
       "      <td>159156636</td>\n",
       "      <td>NaN</td>\n",
       "      <td>Manhattan</td>\n",
       "      <td>Hell's Kitchen</td>\n",
       "      <td>40.75835</td>\n",
       "      <td>-73.99065</td>\n",
       "      <td>Private room</td>\n",
       "      <td>120</td>\n",
       "      <td>1</td>\n",
       "      <td>88</td>\n",
       "      <td>2018-12-14</td>\n",
       "      <td>4.93</td>\n",
       "      <td>3</td>\n",
       "      <td>0</td>\n",
       "    </tr>\n",
       "    <tr>\n",
       "      <td>30570</td>\n",
       "      <td>23660605</td>\n",
       "      <td>Private Bedroom w/ Balcony view of Central Park</td>\n",
       "      <td>177146433</td>\n",
       "      <td>NaN</td>\n",
       "      <td>Manhattan</td>\n",
       "      <td>East Harlem</td>\n",
       "      <td>40.79766</td>\n",
       "      <td>-73.94824</td>\n",
       "      <td>Private room</td>\n",
       "      <td>139</td>\n",
       "      <td>1</td>\n",
       "      <td>6</td>\n",
       "      <td>2018-08-12</td>\n",
       "      <td>0.46</td>\n",
       "      <td>1</td>\n",
       "      <td>0</td>\n",
       "    </tr>\n",
       "    <tr>\n",
       "      <td>32193</td>\n",
       "      <td>25180572</td>\n",
       "      <td>Beautiful Cozy Studio Apt. UWS</td>\n",
       "      <td>119609345</td>\n",
       "      <td>NaN</td>\n",
       "      <td>Manhattan</td>\n",
       "      <td>Upper West Side</td>\n",
       "      <td>40.77701</td>\n",
       "      <td>-73.97667</td>\n",
       "      <td>Entire home/apt</td>\n",
       "      <td>180</td>\n",
       "      <td>4</td>\n",
       "      <td>0</td>\n",
       "      <td>NaN</td>\n",
       "      <td>NaN</td>\n",
       "      <td>1</td>\n",
       "      <td>0</td>\n",
       "    </tr>\n",
       "    <tr>\n",
       "      <td>38992</td>\n",
       "      <td>30468335</td>\n",
       "      <td>LARGE Prospect Lefferts Gardens Bedroom</td>\n",
       "      <td>228750026</td>\n",
       "      <td>NaN</td>\n",
       "      <td>Brooklyn</td>\n",
       "      <td>Flatbush</td>\n",
       "      <td>40.65152</td>\n",
       "      <td>-73.95271</td>\n",
       "      <td>Private room</td>\n",
       "      <td>55</td>\n",
       "      <td>7</td>\n",
       "      <td>0</td>\n",
       "      <td>NaN</td>\n",
       "      <td>NaN</td>\n",
       "      <td>1</td>\n",
       "      <td>69</td>\n",
       "    </tr>\n",
       "  </tbody>\n",
       "</table>\n",
       "</div>"
      ],
      "text/plain": [
       "             id                                               name    host_id  \\\n",
       "360      100184                                          Bienvenue     526653   \n",
       "2700    1449546                            Cozy Studio in Flatbush    7779204   \n",
       "5745    4183989    SPRING in the City!! Zen-Style Tranquil Bedroom     919218   \n",
       "6075    4446862                 Charming Room in Prospect Heights!   23077718   \n",
       "6582    4763327                Luxurious, best location, spa inc'l   24576978   \n",
       "8163    6292866                          Modern Quiet Gem Near All   32722063   \n",
       "8257    6360224                    Sunny, Private room in Bushwick   33134899   \n",
       "8852    6786181                       R&S Modern Spacious Hideaway   32722063   \n",
       "9138    6992973                    1 Bedroom in Prime Williamsburg    5162530   \n",
       "9817    7556587                               Sunny Room in Harlem   39608626   \n",
       "14040  10709846                 Sunny, spacious room in Greenpoint    7822683   \n",
       "14631  11553543                                  Cozy Room Astoria   26138712   \n",
       "15174  12113879     Sunny, Large West Village 1 BR Near Everything    5300585   \n",
       "19565  15648096              Spacious 2 bedroom close to Manhattan  100971588   \n",
       "27777  21787094         Spacious and Bright Midtown East Apartment     415290   \n",
       "27962  21867710  Amazing room in the centre on Manhatten! Welcome!  159156636   \n",
       "28042  21901156  Best Deal! Lovely place in Manhattan! Time Squ...  159156636   \n",
       "28274  21990808                 ***SLEEPING IN THE GOLDEN PLACE***  159156636   \n",
       "30570  23660605    Private Bedroom w/ Balcony view of Central Park  177146433   \n",
       "32193  25180572                     Beautiful Cozy Studio Apt. UWS  119609345   \n",
       "38992  30468335            LARGE Prospect Lefferts Gardens Bedroom  228750026   \n",
       "\n",
       "      host_name neighbourhood_group     neighbourhood  latitude  longitude  \\\n",
       "360         NaN              Queens    Queens Village  40.72413  -73.76133   \n",
       "2700        NaN            Brooklyn          Flatbush  40.64965  -73.96154   \n",
       "5745        NaN           Manhattan            Harlem  40.80606  -73.95061   \n",
       "6075        NaN            Brooklyn     Crown Heights  40.67512  -73.96146   \n",
       "6582        NaN            Brooklyn        Greenpoint  40.72035  -73.95355   \n",
       "8163        NaN            Brooklyn     East Flatbush  40.65263  -73.93215   \n",
       "8257        NaN            Brooklyn          Bushwick  40.70146  -73.92792   \n",
       "8852        NaN            Brooklyn     East Flatbush  40.64345  -73.93643   \n",
       "9138        NaN            Brooklyn      Williamsburg  40.71838  -73.95630   \n",
       "9817        NaN           Manhattan            Harlem  40.82929  -73.94182   \n",
       "14040       NaN            Brooklyn        Greenpoint  40.73539  -73.95838   \n",
       "14631       NaN              Queens  Ditmars Steinway  40.77587  -73.91775   \n",
       "15174       NaN           Manhattan           Chelsea  40.73949  -73.99801   \n",
       "19565       NaN               Bronx        Highbridge  40.83844  -73.92489   \n",
       "27777       NaN           Manhattan   Upper East Side  40.76436  -73.96836   \n",
       "27962       NaN           Manhattan    Hell's Kitchen  40.75668  -73.99097   \n",
       "28042       NaN           Manhattan    Hell's Kitchen  40.75656  -73.99063   \n",
       "28274       NaN           Manhattan    Hell's Kitchen  40.75835  -73.99065   \n",
       "30570       NaN           Manhattan       East Harlem  40.79766  -73.94824   \n",
       "32193       NaN           Manhattan   Upper West Side  40.77701  -73.97667   \n",
       "38992       NaN            Brooklyn          Flatbush  40.65152  -73.95271   \n",
       "\n",
       "             room_type  price  minimum_nights  number_of_reviews last_review  \\\n",
       "360       Private room     50               1                 43  2019-07-08   \n",
       "2700   Entire home/apt    100              30                 49  2017-01-02   \n",
       "5745      Private room     86               3                 34  2019-05-23   \n",
       "6075      Private room     50               1                  0         NaN   \n",
       "6582   Entire home/apt    195               1                  1  2015-10-20   \n",
       "8163   Entire home/apt     85               2                182  2019-06-19   \n",
       "8257      Private room     37               1                  1  2015-07-01   \n",
       "8852   Entire home/apt    100               2                157  2019-06-19   \n",
       "9138   Entire home/apt    145               1                  0         NaN   \n",
       "9817      Private room     28               1                  1  2015-08-01   \n",
       "14040     Private room     55              10                  2  2016-11-05   \n",
       "14631     Private room     45               1                  5  2017-01-01   \n",
       "15174  Entire home/apt    220               4                 81  2019-07-02   \n",
       "19565  Entire home/apt     75               4                 37  2019-07-07   \n",
       "27777  Entire home/apt    325               1                  0         NaN   \n",
       "27962     Private room    120               1                 89  2019-01-01   \n",
       "28042     Private room    120               1                109  2019-01-01   \n",
       "28274     Private room    120               1                 88  2018-12-14   \n",
       "30570     Private room    139               1                  6  2018-08-12   \n",
       "32193  Entire home/apt    180               4                  0         NaN   \n",
       "38992     Private room     55               7                  0         NaN   \n",
       "\n",
       "       reviews_per_month  calculated_host_listings_count  availability_365  \n",
       "360                 0.45                               1                88  \n",
       "2700                0.69                               1               342  \n",
       "5745                1.00                               1               359  \n",
       "6075                 NaN                               1                 0  \n",
       "6582                0.02                               1                 0  \n",
       "8163                3.59                               2               318  \n",
       "8257                0.02                               1                 0  \n",
       "8852                3.18                               2               342  \n",
       "9138                 NaN                               1                 0  \n",
       "9817                0.02                               1                 0  \n",
       "14040               0.05                               1                 0  \n",
       "14631               0.13                               1                 0  \n",
       "15174               2.11                               1               217  \n",
       "19565               1.21                               1                26  \n",
       "27777                NaN                               1                 0  \n",
       "27962               5.16                               3                 0  \n",
       "28042               5.97                               3                 0  \n",
       "28274               4.93                               3                 0  \n",
       "30570               0.46                               1                 0  \n",
       "32193                NaN                               1                 0  \n",
       "38992                NaN                               1                69  "
      ]
     },
     "execution_count": 34,
     "metadata": {},
     "output_type": "execute_result"
    }
   ],
   "source": [
    "df[df.host_name.isnull()]"
   ]
  },
  {
   "cell_type": "code",
   "execution_count": 36,
   "metadata": {},
   "outputs": [
    {
     "data": {
      "text/plain": [
       "latitude  longitude\n",
       "40.64345  -73.93643    1\n",
       "40.64965  -73.96154    1\n",
       "40.65152  -73.95271    1\n",
       "40.65263  -73.93215    1\n",
       "40.67512  -73.96146    1\n",
       "40.70146  -73.92792    1\n",
       "40.71838  -73.95630    1\n",
       "40.72035  -73.95355    1\n",
       "40.72413  -73.76133    1\n",
       "40.73539  -73.95838    1\n",
       "40.73949  -73.99801    1\n",
       "40.75656  -73.99063    1\n",
       "40.75668  -73.99097    1\n",
       "40.75835  -73.99065    1\n",
       "40.76436  -73.96836    1\n",
       "40.77587  -73.91775    1\n",
       "40.77701  -73.97667    1\n",
       "40.79766  -73.94824    1\n",
       "40.80606  -73.95061    1\n",
       "40.82929  -73.94182    1\n",
       "40.83844  -73.92489    1\n",
       "Name: id, dtype: int64"
      ]
     },
     "execution_count": 36,
     "metadata": {},
     "output_type": "execute_result"
    }
   ],
   "source": [
    "df[df.host_name.isnull()].groupby(['latitude','longitude']).count()['id']"
   ]
  },
  {
   "cell_type": "markdown",
   "metadata": {},
   "source": [
    "- all host name is unique, but I wonder that there is no \"name\" host.\n",
    "- compliment values same as Name\n",
    "- でも。hostnameが無いってやばいと思うの。"
   ]
  },
  {
   "cell_type": "code",
   "execution_count": 42,
   "metadata": {},
   "outputs": [],
   "source": [
    "df.loc[df.host_name.isnull(),'host_name'] = pd.Series([ 'hostname_'+str(_i) for _i in range(len(df.host_name.isnull()))])"
   ]
  },
  {
   "cell_type": "markdown",
   "metadata": {},
   "source": [
    "- reviews_per_month\n",
    "- 単純にthere is no guest who give review なので、０"
   ]
  },
  {
   "cell_type": "code",
   "execution_count": 53,
   "metadata": {},
   "outputs": [
    {
     "data": {
      "text/html": [
       "<div>\n",
       "<style scoped>\n",
       "    .dataframe tbody tr th:only-of-type {\n",
       "        vertical-align: middle;\n",
       "    }\n",
       "\n",
       "    .dataframe tbody tr th {\n",
       "        vertical-align: top;\n",
       "    }\n",
       "\n",
       "    .dataframe thead th {\n",
       "        text-align: right;\n",
       "    }\n",
       "</style>\n",
       "<table border=\"1\" class=\"dataframe\">\n",
       "  <thead>\n",
       "    <tr style=\"text-align: right;\">\n",
       "      <th></th>\n",
       "      <th>id</th>\n",
       "      <th>name</th>\n",
       "      <th>host_id</th>\n",
       "      <th>host_name</th>\n",
       "      <th>neighbourhood_group</th>\n",
       "      <th>neighbourhood</th>\n",
       "      <th>latitude</th>\n",
       "      <th>longitude</th>\n",
       "      <th>room_type</th>\n",
       "      <th>price</th>\n",
       "      <th>minimum_nights</th>\n",
       "      <th>number_of_reviews</th>\n",
       "      <th>last_review</th>\n",
       "      <th>reviews_per_month</th>\n",
       "      <th>calculated_host_listings_count</th>\n",
       "      <th>availability_365</th>\n",
       "    </tr>\n",
       "  </thead>\n",
       "  <tbody>\n",
       "  </tbody>\n",
       "</table>\n",
       "</div>"
      ],
      "text/plain": [
       "Empty DataFrame\n",
       "Columns: [id, name, host_id, host_name, neighbourhood_group, neighbourhood, latitude, longitude, room_type, price, minimum_nights, number_of_reviews, last_review, reviews_per_month, calculated_host_listings_count, availability_365]\n",
       "Index: []"
      ]
     },
     "execution_count": 53,
     "metadata": {},
     "output_type": "execute_result"
    }
   ],
   "source": [
    "df[df.reviews_per_month==0]"
   ]
  },
  {
   "cell_type": "code",
   "execution_count": 54,
   "metadata": {},
   "outputs": [],
   "source": [
    "df.reviews_per_month.fillna(0,inplace=True)"
   ]
  },
  {
   "cell_type": "code",
   "execution_count": 55,
   "metadata": {},
   "outputs": [
    {
     "data": {
      "text/html": [
       "<div>\n",
       "<style scoped>\n",
       "    .dataframe tbody tr th:only-of-type {\n",
       "        vertical-align: middle;\n",
       "    }\n",
       "\n",
       "    .dataframe tbody tr th {\n",
       "        vertical-align: top;\n",
       "    }\n",
       "\n",
       "    .dataframe thead th {\n",
       "        text-align: right;\n",
       "    }\n",
       "</style>\n",
       "<table border=\"1\" class=\"dataframe\">\n",
       "  <thead>\n",
       "    <tr style=\"text-align: right;\">\n",
       "      <th></th>\n",
       "      <th>id</th>\n",
       "      <th>name</th>\n",
       "      <th>host_id</th>\n",
       "      <th>host_name</th>\n",
       "      <th>neighbourhood_group</th>\n",
       "      <th>neighbourhood</th>\n",
       "      <th>latitude</th>\n",
       "      <th>longitude</th>\n",
       "      <th>room_type</th>\n",
       "      <th>price</th>\n",
       "      <th>minimum_nights</th>\n",
       "      <th>number_of_reviews</th>\n",
       "      <th>last_review</th>\n",
       "      <th>reviews_per_month</th>\n",
       "      <th>calculated_host_listings_count</th>\n",
       "      <th>availability_365</th>\n",
       "    </tr>\n",
       "  </thead>\n",
       "  <tbody>\n",
       "  </tbody>\n",
       "</table>\n",
       "</div>"
      ],
      "text/plain": [
       "Empty DataFrame\n",
       "Columns: [id, name, host_id, host_name, neighbourhood_group, neighbourhood, latitude, longitude, room_type, price, minimum_nights, number_of_reviews, last_review, reviews_per_month, calculated_host_listings_count, availability_365]\n",
       "Index: []"
      ]
     },
     "execution_count": 55,
     "metadata": {},
     "output_type": "execute_result"
    }
   ],
   "source": [
    "df[df.last_review  0]"
   ]
  },
  {
   "cell_type": "markdown",
   "metadata": {},
   "source": [
    "- last_review はそもそも重要なのか\n",
    "    - 直近でレビューもらった数なんて.."
   ]
  },
  {
   "cell_type": "code",
   "execution_count": 74,
   "metadata": {},
   "outputs": [],
   "source": [
    "df.last_review = pd.to_datetime(df.last_review,format='%Y-%m-%d')"
   ]
  },
  {
   "cell_type": "code",
   "execution_count": 75,
   "metadata": {},
   "outputs": [],
   "source": [
    "date_recently = df.last_review.max()"
   ]
  },
  {
   "cell_type": "code",
   "execution_count": 78,
   "metadata": {},
   "outputs": [],
   "source": [
    "df.last_review = (date_recently- df.last_review).apply(lambda _date: _date.days)"
   ]
  },
  {
   "cell_type": "code",
   "execution_count": 106,
   "metadata": {},
   "outputs": [
    {
     "name": "stderr",
     "output_type": "stream",
     "text": [
      "/Users/macico/.pyenv/versions/3.7.1/lib/python3.7/site-packages/ipykernel_launcher.py:2: MatplotlibDeprecationWarning: \n",
      "The 'normed' kwarg was deprecated in Matplotlib 2.1 and will be removed in 3.1. Use 'density' instead.\n",
      "  \n"
     ]
    },
    {
     "data": {
      "text/plain": [
       "(0, 1000)"
      ]
     },
     "execution_count": 106,
     "metadata": {},
     "output_type": "execute_result"
    },
    {
     "data": {
      "image/png": "[encoded data removed]",
      "text/plain": [
       "<Figure size 432x288 with 1 Axes>"
      ]
     },
     "metadata": {
      "needs_background": "light"
     },
     "output_type": "display_data"
    }
   ],
   "source": [
    "_date_max = int(df.last_review.max())\n",
    "plt.hist(df.last_review.dropna(),bins=range(0,_date_max,10),normed=True,cumulative=True)\n",
    "plt.plot(range(_date_max),[0.6 for i in range(_date_max)])\n",
    "plt.xlim([0,1000])"
   ]
  },
  {
   "cell_type": "markdown",
   "metadata": {},
   "source": [
    "- 　ふーんていうお気持ちになった\n",
    "- 多分意味ない。\n",
    "    - 他にreviewに関しては情報が他の要素で補填できる\n",
    "        -　なぜなら、値があっても、多分黄色いライン以上は多分同等の扱いになると思うから \n",
    "- なので、このカラム自体を消してもいいと思う\n"
   ]
  },
  {
   "cell_type": "code",
   "execution_count": 108,
   "metadata": {},
   "outputs": [],
   "source": [
    "del df['last_review']"
   ]
  },
  {
   "cell_type": "markdown",
   "metadata": {},
   "source": [
    "## feature確認"
   ]
  },
  {
   "cell_type": "code",
   "execution_count": 111,
   "metadata": {},
   "outputs": [
    {
     "data": {
      "text/plain": [
       "id                                  int64\n",
       "name                               object\n",
       "host_id                             int64\n",
       "host_name                          object\n",
       "neighbourhood_group                object\n",
       "neighbourhood                      object\n",
       "latitude                          float64\n",
       "longitude                         float64\n",
       "room_type                          object\n",
       "price                               int64\n",
       "minimum_nights                      int64\n",
       "number_of_reviews                   int64\n",
       "reviews_per_month                 float64\n",
       "calculated_host_listings_count      int64\n",
       "availability_365                    int64\n",
       "dtype: object"
      ]
     },
     "execution_count": 111,
     "metadata": {},
     "output_type": "execute_result"
    }
   ],
   "source": [
    "df.dtypes"
   ]
  },
  {
   "cell_type": "code",
   "execution_count": 114,
   "metadata": {},
   "outputs": [
    {
     "data": {
      "text/plain": [
       "array(['Private room', 'Entire home/apt', 'Shared room'], dtype=object)"
      ]
     },
     "execution_count": 114,
     "metadata": {},
     "output_type": "execute_result"
    }
   ],
   "source": [
    "#お部屋タイプ\n",
    "df.room_type.unique()"
   ]
  },
  {
   "cell_type": "code",
   "execution_count": 115,
   "metadata": {},
   "outputs": [
    {
     "data": {
      "text/plain": [
       "array(['Brooklyn', 'Manhattan', 'Queens', 'Staten Island', 'Bronx'],\n",
       "      dtype=object)"
      ]
     },
     "execution_count": 115,
     "metadata": {},
     "output_type": "execute_result"
    }
   ],
   "source": [
    "#エリア\n",
    "df.neighbourhood_group.unique()"
   ]
  },
  {
   "cell_type": "code",
   "execution_count": 116,
   "metadata": {},
   "outputs": [
    {
     "data": {
      "text/plain": [
       "array(['Kensington', 'Midtown', 'Harlem', 'Clinton Hill', 'East Harlem',\n",
       "       'Murray Hill', 'Bedford-Stuyvesant', \"Hell's Kitchen\",\n",
       "       'Upper West Side', 'Chinatown', 'South Slope', 'West Village',\n",
       "       'Williamsburg', 'Fort Greene', 'Chelsea', 'Crown Heights',\n",
       "       'Park Slope', 'Windsor Terrace', 'Inwood', 'East Village',\n",
       "       'Greenpoint', 'Bushwick', 'Flatbush', 'Lower East Side',\n",
       "       'Prospect-Lefferts Gardens', 'Long Island City', 'Kips Bay',\n",
       "       'SoHo', 'Upper East Side', 'Prospect Heights',\n",
       "       'Washington Heights', 'Woodside', 'Brooklyn Heights',\n",
       "       'Carroll Gardens', 'Gowanus', 'Flatlands', 'Cobble Hill',\n",
       "       'Flushing', 'Boerum Hill', 'Sunnyside', 'DUMBO', 'St. George',\n",
       "       'Highbridge', 'Financial District', 'Ridgewood',\n",
       "       'Morningside Heights', 'Jamaica', 'Middle Village', 'NoHo',\n",
       "       'Ditmars Steinway', 'Flatiron District', 'Roosevelt Island',\n",
       "       'Greenwich Village', 'Little Italy', 'East Flatbush',\n",
       "       'Tompkinsville', 'Astoria', 'Clason Point', 'Eastchester',\n",
       "       'Kingsbridge', 'Two Bridges', 'Queens Village', 'Rockaway Beach',\n",
       "       'Forest Hills', 'Nolita', 'Woodlawn', 'University Heights',\n",
       "       'Gravesend', 'Gramercy', 'Allerton', 'East New York',\n",
       "       'Theater District', 'Concourse Village', 'Sheepshead Bay',\n",
       "       'Emerson Hill', 'Fort Hamilton', 'Bensonhurst', 'Tribeca',\n",
       "       'Shore Acres', 'Sunset Park', 'Concourse', 'Elmhurst',\n",
       "       'Brighton Beach', 'Jackson Heights', 'Cypress Hills', 'St. Albans',\n",
       "       'Arrochar', 'Rego Park', 'Wakefield', 'Clifton', 'Bay Ridge',\n",
       "       'Graniteville', 'Spuyten Duyvil', 'Stapleton', 'Briarwood',\n",
       "       'Ozone Park', 'Columbia St', 'Vinegar Hill', 'Mott Haven',\n",
       "       'Longwood', 'Canarsie', 'Battery Park City', 'Civic Center',\n",
       "       'East Elmhurst', 'New Springville', 'Morris Heights', 'Arverne',\n",
       "       'Cambria Heights', 'Tottenville', 'Mariners Harbor', 'Concord',\n",
       "       'Borough Park', 'Bayside', 'Downtown Brooklyn', 'Port Morris',\n",
       "       'Fieldston', 'Kew Gardens', 'Midwood', 'College Point',\n",
       "       'Mount Eden', 'City Island', 'Glendale', 'Port Richmond',\n",
       "       'Red Hook', 'Richmond Hill', 'Bellerose', 'Maspeth',\n",
       "       'Williamsbridge', 'Soundview', 'Woodhaven', 'Woodrow',\n",
       "       'Co-op City', 'Stuyvesant Town', 'Parkchester', 'North Riverdale',\n",
       "       'Dyker Heights', 'Bronxdale', 'Sea Gate', 'Riverdale',\n",
       "       'Kew Gardens Hills', 'Bay Terrace', 'Norwood', 'Claremont Village',\n",
       "       'Whitestone', 'Fordham', 'Bayswater', 'Navy Yard', 'Brownsville',\n",
       "       'Eltingville', 'Fresh Meadows', 'Mount Hope', 'Lighthouse Hill',\n",
       "       'Springfield Gardens', 'Howard Beach', 'Belle Harbor',\n",
       "       'Jamaica Estates', 'Van Nest', 'Morris Park', 'West Brighton',\n",
       "       'Far Rockaway', 'South Ozone Park', 'Tremont', 'Corona',\n",
       "       'Great Kills', 'Manhattan Beach', 'Marble Hill', 'Dongan Hills',\n",
       "       'Castleton Corners', 'East Morrisania', 'Hunts Point', 'Neponsit',\n",
       "       'Pelham Bay', 'Randall Manor', 'Throgs Neck', 'Todt Hill',\n",
       "       'West Farms', 'Silver Lake', 'Morrisania', 'Laurelton',\n",
       "       'Grymes Hill', 'Holliswood', 'Pelham Gardens', 'Belmont',\n",
       "       'Rosedale', 'Edgemere', 'New Brighton', 'Midland Beach',\n",
       "       'Baychester', 'Melrose', 'Bergen Beach', 'Richmondtown',\n",
       "       'Howland Hook', 'Schuylerville', 'Coney Island', 'New Dorp Beach',\n",
       "       \"Prince's Bay\", 'South Beach', 'Bath Beach', 'Jamaica Hills',\n",
       "       'Oakwood', 'Castle Hill', 'Hollis', 'Douglaston', 'Huguenot',\n",
       "       'Olinville', 'Edenwald', 'Grant City', 'Westerleigh',\n",
       "       'Bay Terrace, Staten Island', 'Westchester Square', 'Little Neck',\n",
       "       'Fort Wadsworth', 'Rosebank', 'Unionport', 'Mill Basin',\n",
       "       'Arden Heights', \"Bull's Head\", 'New Dorp', 'Rossville',\n",
       "       'Breezy Point', 'Willowbrook'], dtype=object)"
      ]
     },
     "execution_count": 116,
     "metadata": {},
     "output_type": "execute_result"
    }
   ],
   "source": [
    "#地名\n",
    "df.neighbourhood.unique()"
   ]
  },
  {
   "cell_type": "code",
   "execution_count": 182,
   "metadata": {},
   "outputs": [],
   "source": [
    "def cal_set(a):\n",
    "    return len(set(a))/float(len(set(df.host_name)))"
   ]
  },
  {
   "cell_type": "code",
   "execution_count": 184,
   "metadata": {},
   "outputs": [
    {
     "data": {
      "text/plain": [
       "<matplotlib.axes._subplots.AxesSubplot at 0x11fc722e8>"
      ]
     },
     "execution_count": 184,
     "metadata": {},
     "output_type": "execute_result"
    },
    {
     "data": {
      "image/png": "[encoded data removed]",
      "text/plain": [
       "<Figure size 432x288 with 2 Axes>"
      ]
     },
     "metadata": {
      "needs_background": "light"
     },
     "output_type": "display_data"
    }
   ],
   "source": [
    "df_tmp = pd.pivot_table(df,index='neighbourhood_group',columns='room_type',values='host_name',aggfunc=cal_set)\n",
    "sns.heatmap(data=df_tmp, annot=True)"
   ]
  },
  {
   "cell_type": "markdown",
   "metadata": {},
   "source": [
    "- 結局、場所とタイプは割と限定されてくるんだね"
   ]
  },
  {
   "cell_type": "code",
   "execution_count": 242,
   "metadata": {},
   "outputs": [
    {
     "data": {
      "image/png": "[encoded data removed]",
      "text/plain": [
       "<Figure size 432x288 with 1 Axes>"
      ]
     },
     "metadata": {
      "needs_background": "light"
     },
     "output_type": "display_data"
    }
   ],
   "source": [
    "col = 'neighbourhood_group'\n",
    "df_tmp_mean = df.groupby(col)['price'].mean()\n",
    "plt.ylim([0,500])\n",
    "ax = sns.boxplot(x=col,y='price',data=df)\n",
    "for i, _label in enumerate(ax.get_xticklabels()):\n",
    "    plt.plot(i,df_tmp_mean[i],marker='o', markersize=10,color='b')\n",
    "# for _key in list(set(df[col])):\n",
    "#     df_stat = df.loc[df[col] == _key].price.describe()"
   ]
  },
  {
   "cell_type": "code",
   "execution_count": null,
   "metadata": {},
   "outputs": [],
   "source": []
  },
  {
   "cell_type": "code",
   "execution_count": 258,
   "metadata": {},
   "outputs": [
    {
     "name": "stderr",
     "output_type": "stream",
     "text": [
      "/Users/macico/.pyenv/versions/3.7.1/lib/python3.7/site-packages/ipykernel_launcher.py:2: MatplotlibDeprecationWarning: \n",
      "The 'normed' kwarg was deprecated in Matplotlib 2.1 and will be removed in 3.1. Use 'density' instead.\n",
      "  \n"
     ]
    },
    {
     "data": {
      "text/plain": [
       "<matplotlib.legend.Legend at 0x129788dd8>"
      ]
     },
     "execution_count": 258,
     "metadata": {},
     "output_type": "execute_result"
    },
    {
     "data": {
      "image/png": "[encoded data removed]",
      "text/plain": [
       "<Figure size 432x288 with 1 Axes>"
      ]
     },
     "metadata": {
      "needs_background": "light"
     },
     "output_type": "display_data"
    }
   ],
   "source": [
    "for i, _label in enumerate(set(df[col])):\n",
    "    plt.hist(df[df[col]==_label]['price'],label=_label,bins=range(0,10000,50),normed=True,alpha=1, histtype=\"step\")\n",
    "plt.xlim(0,750)\n",
    "plt.legend()\n"
   ]
  },
  {
   "cell_type": "code",
   "execution_count": 269,
   "metadata": {},
   "outputs": [
    {
     "data": {
      "text/plain": [
       "([<matplotlib.axis.XTick at 0x12c6ae978>,\n",
       "  <matplotlib.axis.XTick at 0x12c6ae2b0>,\n",
       "  <matplotlib.axis.XTick at 0x12b15e940>,\n",
       "  <matplotlib.axis.XTick at 0x12b1b6be0>,\n",
       "  <matplotlib.axis.XTick at 0x12b1c1128>,\n",
       "  <matplotlib.axis.XTick at 0x12b1c1588>,\n",
       "  <matplotlib.axis.XTick at 0x12b1c1a90>,\n",
       "  <matplotlib.axis.XTick at 0x12b1c1198>,\n",
       "  <matplotlib.axis.XTick at 0x12b1c81d0>,\n",
       "  <matplotlib.axis.XTick at 0x12b1c8748>,\n",
       "  <matplotlib.axis.XTick at 0x12b1c8cc0>,\n",
       "  <matplotlib.axis.XTick at 0x12b1cf278>,\n",
       "  <matplotlib.axis.XTick at 0x12b1cf7f0>,\n",
       "  <matplotlib.axis.XTick at 0x12b1cfd68>,\n",
       "  <matplotlib.axis.XTick at 0x12b1d6320>],\n",
       " <a list of 15 Text xticklabel objects>)"
      ]
     },
     "execution_count": 269,
     "metadata": {},
     "output_type": "execute_result"
    },
    {
     "data": {
      "image/png": "[encoded data removed]",
      "text/plain": [
       "<Figure size 1440x432 with 1 Axes>"
      ]
     },
     "metadata": {
      "needs_background": "light"
     },
     "output_type": "display_data"
    }
   ],
   "source": [
    "col = 'pair'\n",
    "df['pair'] = df.neighbourhood_group + '-'+df.room_type\n",
    "df_tmp_mean = df.groupby(col)['price'].mean()\n",
    "fig = plt.figure(figsize=(20.0, 6.0))\n",
    "plt.ylim([0,500])\n",
    "ax = sns.boxplot(x=col,y='price',data=df)\n",
    "for i, _label in enumerate(ax.get_xticklabels()):\n",
    "    plt.plot(i,df_tmp_mean[i],marker='o', markersize=10,color='b')\n",
    "# for _key in list(set(df[col])):\n",
    "#     df_stat = df.loc[df[col] == _key].price.describe()\n",
    "plt.xticks(range(len(ax.get_xticklabels())), ax.get_xticklabels(), rotation=90)"
   ]
  },
  {
   "cell_type": "markdown",
   "metadata": {},
   "source": [
    "- マンハッタンはやっぱりいっぱい宿構えているんだね。\n",
    "    - 現実的に値段が1000ドルとか高すぎだろってことで、良心的な値段\n",
    "    - 値段相場は面白い。この図は興味深い。アホみたいに高いものが存在するQueensとかね\n",
    "    - heatmap では二極化して、各区分で同じ数くらいいるけど、それぞれで値段の帯域が違うね。特にブルックリン"
   ]
  },
  {
   "cell_type": "code",
   "execution_count": 276,
   "metadata": {},
   "outputs": [
    {
     "data": {
      "text/plain": [
       "<BarContainer object of 221 artists>"
      ]
     },
     "execution_count": 276,
     "metadata": {},
     "output_type": "execute_result"
    },
    {
     "data": {
      "image/png": "[encoded data removed]",
      "text/plain": [
       "<Figure size 432x288 with 1 Axes>"
      ]
     },
     "metadata": {
      "needs_background": "light"
     },
     "output_type": "display_data"
    }
   ],
   "source": [
    "plt.bar(range(len(df.neighbourhood.value_counts())),df.neighbourhood.value_counts().values)"
   ]
  },
  {
   "cell_type": "markdown",
   "metadata": {},
   "source": [
    "### 楽しそうな図たち"
   ]
  },
  {
   "cell_type": "code",
   "execution_count": 272,
   "metadata": {},
   "outputs": [],
   "source": [
    "import folium\n",
    "from folium.plugins import MarkerCluster\n",
    "from folium import plugins\n",
    "print('Rooms with the most number of reviews')\n",
    "Long=-73.80\n",
    "Lat=40.80\n",
    "mapdf1=folium.Map([Lat,Long],zoom_start=10,)\n",
    "\n",
    "mapdf1_rooms_map=plugins.MarkerCluster().add_to(mapdf1)\n",
    "\n",
    "for lat,lon,label in zip(df.latitude,df.longitude,df.name):\n",
    "    folium.Marker(location=[lat,lon],icon=folium.Icon(icon='home'),popup=label).add_to(mapdf1_rooms_map)\n",
    "mapdf1.add_child(mapdf1_rooms_map)\n",
    "\n",
    "mapdf1"
   ]
  },
  {
   "cell_type": "code",
   "execution_count": 274,
   "metadata": {},
   "outputs": [
    {
     "data": {
      "image/png": "[encoded data removed]",
      "text/plain": [
       "<Figure size 720x576 with 2 Axes>"
      ]
     },
     "metadata": {
      "needs_background": "light"
     },
     "output_type": "display_data"
    }
   ],
   "source": [
    "import urllib\n",
    "#initializing the figure size\n",
    "plt.figure(figsize=(10,8))\n",
    "#loading the png NYC image found on Google and saving to my local folder along with the project\n",
    "i=urllib.request.urlopen('https://upload.wikimedia.org/wikipedia/commons/e/ec/Neighbourhoods_New_York_City_Map.PNG')\n",
    "nyc_img=plt.imread(i)\n",
    "#scaling the image based on the latitude and longitude max and mins for proper output\n",
    "plt.imshow(nyc_img,zorder=0,extent=[-74.258, -73.7, 40.49,40.92])\n",
    "ax=plt.gca()\n",
    "#using scatterplot again\n",
    "df.plot(kind='scatter', x='longitude', y='latitude', label='availability_365', c='price', ax=ax, \n",
    "           cmap=plt.get_cmap('jet'), colorbar=True, alpha=0.4, zorder=5)\n",
    "plt.legend()\n",
    "plt.show()"
   ]
  },
  {
   "cell_type": "markdown",
   "metadata": {},
   "source": [
    "### 実際に予測してみる"
   ]
  },
  {
   "cell_type": "markdown",
   "metadata": {},
   "source": [
    "https://www.kaggle.com/jrw2200/smart-pricing-with-xgb-rfr-interpretations#SUMMARY"
   ]
  },
  {
   "cell_type": "code",
   "execution_count": null,
   "metadata": {},
   "outputs": [],
   "source": []
  }
 ],
 "metadata": {
  "kernelspec": {
   "display_name": "Python 3",
   "language": "python",
   "name": "python3"
  },
  "language_info": {
   "codemirror_mode": {
    "name": "ipython",
    "version": 3
   },
   "file_extension": ".py",
   "mimetype": "text/x-python",
   "name": "python",
   "nbconvert_exporter": "python",
   "pygments_lexer": "ipython3",
   "version": "3.7.1"
  }
 },
 "nbformat": 4,
 "nbformat_minor": 2
}

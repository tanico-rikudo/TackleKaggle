{
 "metadata": {
  "language_info": {
   "codemirror_mode": {
    "name": "ipython",
    "version": 3
   },
   "file_extension": ".py",
   "mimetype": "text/x-python",
   "name": "python",
   "nbconvert_exporter": "python",
   "pygments_lexer": "ipython3",
   "version": "2.7.14-final"
  },
  "orig_nbformat": 2,
  "kernelspec": {
   "name": "python_defaultSpec_1599305552876",
   "display_name": "Python 2.7.14 64-bit ('anaconda2-4.2.0': conda)"
  }
 },
 "nbformat": 4,
 "nbformat_minor": 2,
 "cells": [
  {
   "cell_type": "code",
   "execution_count": 3,
   "metadata": {},
   "outputs": [],
   "source": [
    "import torch\n",
    "import torch.nn as nn\n",
    "import torch.nn.functional as F"
   ]
  },
  {
   "cell_type": "markdown",
   "metadata": {},
   "source": [
    "### define network"
   ]
  },
  {
   "cell_type": "code",
   "execution_count": 34,
   "metadata": {},
   "outputs": [],
   "source": [
    "class Net(nn.Module):\n",
    "    def __init__(self):\n",
    "        super(Net, self).__init__()\n",
    "        # input 32*32\n",
    "        self.conv1 = nn.Conv2d(1,6,3) #1 input image channel, 6 output channels, 3x3 square convolution\n",
    "        self.conv2 = nn.Conv2d(6,16,3) #6 input image channel, 16 output channels, 3x3 square convolution\n",
    "        # conv2D: kernel_size=(3, 3), stride=(1, 1)) is default setting\n",
    "\n",
    "        self.fc1 = nn.Linear(16*(6*6), 120)  # 6*6 from image dimension to 120\n",
    "        self.fc2 = nn.Linear(120, 84)\n",
    "        self.fc3 = nn.Linear(84,10)\n",
    "\n",
    "    def forward(self, x):\n",
    "        x= F.max_pool2d(F.relu(self.conv1(x)), (2,2))\n",
    "        x= F.max_pool2d(F.relu(self.conv2(x)), (2,2))# These sentenses can be separated\n",
    "        # max pool 2d :stride=kernel_size,padding=0 is default setting\n",
    "\n",
    "        x = x.view(-1, self.num_flat_features(x)) # to vector\n",
    "        x = F.relu(self.fc1(x))\n",
    "        x = F.relu(self.fc2(x))\n",
    "        x = self.fc3(x)\n",
    "        return x\n",
    "\n",
    "    def num_flat_features(self, x):\n",
    "        # size = #sample * #channel * #height * #width\n",
    "        size = x.size()[1:]\n",
    "        num_feature = 1\n",
    "        for s in size:\n",
    "            num_feature *= s\n",
    "        return num_feature\n"
   ]
  },
  {
   "cell_type": "code",
   "execution_count": 35,
   "metadata": {
    "tags": []
   },
   "outputs": [
    {
     "output_type": "stream",
     "name": "stdout",
     "text": "Net(\n  (conv1): Conv2d(1, 6, kernel_size=(3, 3), stride=(1, 1))\n  (conv2): Conv2d(6, 16, kernel_size=(3, 3), stride=(1, 1))\n  (fc1): Linear(in_features=576, out_features=120, bias=True)\n  (fc2): Linear(in_features=120, out_features=84, bias=True)\n  (fc3): Linear(in_features=84, out_features=10, bias=True)\n)\n"
    }
   ],
   "source": [
    "\n",
    "net = Net()\n",
    "print(net)"
   ]
  },
  {
   "cell_type": "code",
   "execution_count": 43,
   "metadata": {
    "tags": []
   },
   "outputs": [
    {
     "output_type": "stream",
     "name": "stdout",
     "text": "torch.Size([6, 1, 3, 3])\n10\n"
    }
   ],
   "source": [
    "params = list(net.parameters())\n",
    "print(params[0].size())\n",
    "print(len(params))\n"
   ]
  },
  {
   "cell_type": "code",
   "execution_count": 37,
   "metadata": {
    "tags": []
   },
   "outputs": [
    {
     "output_type": "stream",
     "name": "stdout",
     "text": "torch.Size([6, 1, 3, 3])\n10\n"
    }
   ],
   "source": []
  },
  {
   "cell_type": "markdown",
   "metadata": {},
   "source": [
    "### Set input and back propagation "
   ]
  },
  {
   "cell_type": "code",
   "execution_count": 44,
   "metadata": {
    "tags": []
   },
   "outputs": [
    {
     "output_type": "stream",
     "name": "stdout",
     "text": "tensor([[-0.1205,  0.0523, -0.0669, -0.0886,  0.0369,  0.0070, -0.0821,  0.0056,\n          0.0342, -0.0915]], grad_fn=<AddmmBackward>)\n"
    }
   ],
   "source": [
    "input  = (torch.randn(1,1,32,32)) #sample * #channel * #height * #width\n",
    "out = net(input)\n",
    "print(out)"
   ]
  },
  {
   "cell_type": "code",
   "execution_count": 45,
   "metadata": {},
   "outputs": [],
   "source": [
    "net.zero_grad() #set  0 to gradation. \n",
    "out.backward(torch.randn(1,10)) # (1,10) is output -> backward propagation"
   ]
  },
  {
   "cell_type": "code",
   "execution_count": 46,
   "metadata": {},
   "outputs": [
    {
     "output_type": "execute_result",
     "data": {
      "text/plain": "tensor([[[[-0.0533,  0.0213,  0.0073],\n          [ 0.0366, -0.0253,  0.0403],\n          [ 0.0161, -0.0613, -0.0129]]],\n\n\n        [[[-0.0546, -0.0175, -0.0264],\n          [ 0.0176, -0.0646,  0.0156],\n          [-0.0412, -0.0139, -0.0150]]],\n\n\n        [[[ 0.0537,  0.0302, -0.0493],\n          [-0.0677,  0.0264,  0.0044],\n          [ 0.0283,  0.0382, -0.0424]]],\n\n\n        [[[-0.0235,  0.0437, -0.0437],\n          [-0.0277, -0.0136, -0.0046],\n          [ 0.0255, -0.0172, -0.0194]]],\n\n\n        [[[ 0.0453,  0.0002,  0.0350],\n          [ 0.0022, -0.0007, -0.0425],\n          [-0.0112, -0.0146, -0.0246]]],\n\n\n        [[[ 0.0369,  0.0070, -0.0192],\n          [ 0.0380,  0.0396, -0.0202],\n          [-0.0049, -0.0072, -0.0105]]]])"
     },
     "metadata": {},
     "execution_count": 46
    }
   ],
   "source": [
    "params[0].grad.data\n"
   ]
  },
  {
   "cell_type": "markdown",
   "metadata": {},
   "source": [
    "###  Loss function  "
   ]
  },
  {
   "cell_type": "code",
   "execution_count": 70,
   "metadata": {},
   "outputs": [],
   "source": [
    "output = net(input)\n",
    "target = torch.randn(10) \n",
    "target = target.view(1,-1) #target value"
   ]
  },
  {
   "cell_type": "code",
   "execution_count": 71,
   "metadata": {},
   "outputs": [],
   "source": [
    "criterion = nn.MSELoss()"
   ]
  },
  {
   "cell_type": "code",
   "execution_count": 72,
   "metadata": {
    "tags": []
   },
   "outputs": [
    {
     "output_type": "stream",
     "name": "stdout",
     "text": "tensor(0.8953, grad_fn=<MseLossBackward>)\n"
    }
   ],
   "source": [
    "loss=criterion(output, target)\n",
    "print(loss)"
   ]
  },
  {
   "cell_type": "code",
   "execution_count": 73,
   "metadata": {
    "tags": []
   },
   "outputs": [
    {
     "output_type": "stream",
     "name": "stdout",
     "text": "<MseLossBackward object at 0x7f9105f60b90>\n<AddmmBackward object at 0x7f9105f60f90>\n"
    }
   ],
   "source": [
    "print(loss.grad_fn)\n",
    "print(loss.grad_fn.next_functions[0][0])\n",
    "# input -> conv2d -> relu -> maxpool2d -> conv2d -> relu -> maxpool2d \n",
    "#       -> view -> linear -> relu -> linear -> relu -> linear\n",
    "#       -> MSELoss\n",
    "#       -> loss"
   ]
  },
  {
   "cell_type": "code",
   "execution_count": 74,
   "metadata": {
    "tags": []
   },
   "outputs": [
    {
     "output_type": "stream",
     "name": "stdout",
     "text": "tensor([0., 0., 0., 0., 0., 0.])\ntensor([-0.0005, -0.0013,  0.0095,  0.0131,  0.0216, -0.0140])\n"
    }
   ],
   "source": [
    "net.zero_grad() #init \n",
    "print(net.conv1.bias.grad)\n",
    "loss.backward()#cal gradient and reflect result\n",
    "print(net.conv1.bias.grad)"
   ]
  },
  {
   "cell_type": "markdown",
   "metadata": {},
   "source": [
    "### update weight"
   ]
  },
  {
   "cell_type": "code",
   "execution_count": 84,
   "metadata": {
    "tags": []
   },
   "outputs": [
    {
     "output_type": "stream",
     "name": "stdout",
     "text": "0\n1\n2\n3\n4\n5\n6\n7\n8\n9\n"
    }
   ],
   "source": [
    "# simple way\n",
    "lr = 0.01\n",
    "for i, f in enumerate(net.parameters()):\n",
    "    print(i)\n",
    "    f.data.sub_(f.grad.data * lr) # f.data = f.data - f.grad.data * lr "
   ]
  },
  {
   "cell_type": "code",
   "execution_count": 86,
   "metadata": {},
   "outputs": [],
   "source": [
    "# use optimizer\n",
    "import torch.optim as optim\n",
    "optimizer = optim.SGD(net.parameters(), lr = lr)\n",
    "\n",
    "## Does each iteration ##\n",
    "optimizer.zero_grad()\n",
    "output = net(input)\n",
    "loss = criterion(output, target)\n",
    "loss.backward()\n",
    "optimizer.step() # Does update"
   ]
  },
  {
   "cell_type": "code",
   "execution_count": null,
   "metadata": {},
   "outputs": [],
   "source": []
  }
 ]
}
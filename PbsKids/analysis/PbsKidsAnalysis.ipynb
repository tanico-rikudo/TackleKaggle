{
 "cells": [
  {
   "cell_type": "markdown",
   "metadata": {},
   "source": [
    "# pbskids\n",
    "In this dataset, you are provided with game analytics for the PBS KIDS Measure Up! app. \n",
    "\n",
    "Each assessment is designed to test a child's comprehension of a certain set of measurement-related skills.\n",
    "### *There are five assessments*\n",
    "- Bird Measurer\n",
    "- Cart Balancer\n",
    "- Cauldron Filler\n",
    "- Chest Sorter\n",
    "- Mushroom Sorter.\n",
    "\n",
    "## Goal\n",
    "\n",
    "***Forecast how many attempts a child will take to pass a given assessment(an incorrect answer is counted as an attempt).***\n",
    "\n",
    "Each set:\n",
    "- Training set\n",
    "    - you are provided the full history of gameplay data. \n",
    "- Test set\n",
    "    - we have truncated the history after the start event of a single assessment, chosen randomly, **for which you must predict the number of attempts.**\n",
    "\n",
    "## train.csv & test.csv\n",
    "These are the main data files which contain the gameplay events.\n",
    "\n",
    "### event_id \n",
    "- Randomly generated unique identifier for the event type. Maps to event_id column in specs table.\n",
    "- **specific to the title or game**.\n",
    "    - For example, \n",
    "    - **the eventids 6043a2b4 (All star sorting) and d3640339 (Dino dive) represent the same eventcode 4090(player clicks help button) but belong to different games thus have different event_id**\n",
    "    \n",
    "### event_count\n",
    "- **Incremental counter** of events within a game session (offset at 1). Extracted from event_data.\n",
    "    - There are some rows which have same set of **evenid** and **installid**,\n",
    "        - The *timestamp* is later , The more *event_count*\n",
    "        \n",
    "\n",
    "### event_code\n",
    "- Identifier of the event 'class'. Unique per game, but may be duplicated across games. E.g...\n",
    "    - Start of the title(game/activity/clip/assessment) is always recorded with event_code 2000.\n",
    "- **An event_code can be thought of as a category, **\n",
    "- Assessment attempts(with their outcome - correct or incorrect) are captured in eventcode 4100 for all assessments except for Bird measurer which has the event_code 4110. \n",
    "\n",
    "\n",
    "\n",
    "### game_session\n",
    "- Randomly generated unique identifier grouping events within a single game or video play session.\n",
    "\n",
    "### timestamp\n",
    "- Client-generated datetime\n",
    "- Event occured.\n",
    "    - Maybe, timestamp col contains some timezone.\n",
    "        - because, It doesn't sound realistic that kids play game in midneight(AM2~)\n",
    "        \n",
    "    \n",
    "### event_data\n",
    "- Semi-structured JSON formatted string containing the events parameters. Default fields are: \n",
    "    - event_count\n",
    "    - event_code\n",
    "    - game_time\n",
    "    - otherwise fields are determined by the event type.\n",
    " \n",
    "- The system records **all the actions (both Janet's as well as the system response) as events**.\n",
    "    - For example, the events could be the following: she ...   \n",
    "        - presses the play button\n",
    "            - Ex. the x,y co-ordinates of the click is also noted. \n",
    "        - drags the dinosaurs, \n",
    "        - places the dinosaurs in the right home, \n",
    "- the system gives instructions, feedback if her **action** is correct or not.\n",
    "- event_data captures detailed information based on the event. \n",
    "    - Each of these **events** have a corresponding **event_id** and **event_code**.\n",
    "\n",
    "### installation_id\n",
    "- Randomly generated unique identifier grouping game sessions within a single installed application instance.\n",
    "- Each application install is represented by an installation_id. **This will typically correspond to one child, **\n",
    "    - but you should expect noise from issues such as shared devices. \n",
    "    - **Joe (Janet's little brother) also shares the same Ipad, and often plays the game.**\n",
    "- train: contains many installation_ids which never took assessments, \n",
    "- test : every installation_id made an attempt on at least **one assessment.**\n",
    "\n",
    "### game_time\n",
    "- Time in milliseconds since the start of the game session. Extracted from event_data.\n",
    "\n",
    "### title\n",
    "- Title of the game or video.\n",
    "- There are multiple media **title** belonging to the different types. \n",
    "\n",
    "### type\n",
    "- Media type of the game or video. Possible values are:\n",
    "    - Exposure(video clip)   \n",
    "        - Videos are intended to expose the kid to a topic or a problem solving approach. \n",
    "            - Videos typically model or explain things. \n",
    "            - There is no interactive component to videos. \n",
    "        - Clips can further be classified into:\n",
    "            - Interstitials: \n",
    "                - short transitional videos between worlds or sections of the world\n",
    "                    e.g. 'Crystal Caves - Level 1'). These videos merely hint to the subject matter.\n",
    "            - Longer clips (2-3 minutes in length):\n",
    "                - these videos explain an important subject or approach with the help of familiar characters from the PBS KIDS world. \n",
    "                - Typically these videos have been excerpted from longer television episodes.\n",
    "        - Keep in mind in the dataset only the start of the video playback is captured. \n",
    "            - Therefore there are far fewer events corresponding to clips than there are to games or assessments. \n",
    "            - That does not mean clips are \n",
    "                - less popular\n",
    "                - lack of interactivity not withstanding, \n",
    "            - there is good evidence that video contributes significantly to learning outcomes:D\n",
    "    - Exploration(activity)\n",
    "        - open-ended mini-games that allow kids to practice their skills in an environment that mimics real life play patterns to support “messing about”. \n",
    "        - Activities do not have a defined goal, but they do typically model cause and effect. \n",
    "        - We sometimes refer to Activities as 'sandboxes' or 'toys'.\n",
    "    - Practice(game)\n",
    "        - goal : solving a specific problem. \n",
    "        - Each challenge may belong to a progressively more challenging round (marked in the data), and multiple rounds may be grouped into levels. \n",
    "        - Games do not end until the player finishes the game or decides to exit the play session.\n",
    "        - If a final goal is achieved, there is usually an option to replay the entire game from the start.\n",
    "\n",
    "    - Demonstration(assessment).\n",
    "        - Assessments are interactives that are designed specifically with the goal of measuring a player’s knowledge of the subject matter. \n",
    "        - Metrics : the number of incorrect answers leading to the assessment solution\n",
    "\n",
    "- Each of the worlds in the app may have one or more such sequences of media objects, \n",
    "    - In normal, user should follow above order\n",
    "        - However, kids are not required to follow the path that is laid out for them, \n",
    "    - sometimes the app does not follow this exact formula. \n",
    "\n",
    "- There are multiple media **title** belonging to the different types. \n",
    "    - For example, within the 'Treetop city' there are \n",
    "        - All star sorting(Game) \n",
    "        - Treasure map(Clip)\n",
    "        - Fireworks(Activity) \n",
    "        - amongst others.\n",
    "- games/assessments might have multiple rounds/levels.\n",
    "    - **The level of difficulty is the same for everyone, \n",
    "\n",
    "### world\n",
    "- The section of the application the game or video belongs to. \n",
    "- Helpful to identify the educational curriculum goals of the media. Possible values are:\n",
    "    - NONE (at the app's start screen)\n",
    "    - TREETOPCITY (Length/Height)\n",
    "    - MAGMAPEAK (Capacity/Displacement)\n",
    "    - CRYSTALCAVES (Weight)\n",
    "\n",
    "## specs.csv\n",
    "This file gives the specification of the various event types.\n",
    "\n",
    "### event_id\n",
    "- Global unique identifier for the event type. Joins to event_id column in events table.\n",
    "### info\n",
    "- Description of the event.\n",
    "\n",
    "### args\n",
    "- JSON formatted string of event arguments. Each argument contains:\n",
    "\n",
    "### name\n",
    "- Argument name.\n",
    "\n",
    "### type\n",
    "- Type of the argument (string, int, number, object, array).\n",
    "\n",
    "### info\n",
    "- Description of the argument.\n",
    "\n",
    "## df_train_labels\n",
    "\n",
    "show how these groups would be computed on the assessments in the training set. \n",
    "### (dependency) \n",
    "- num_correct/(num_correct + num_incorrect) = accuracy\n",
    "### accuracy_group(Goal)\n",
    "- 3: the assessment was solved on the first attempt\n",
    "- 2: the assessment was solved on the second attempt\n",
    "- 1: the assessment was solved after 3 or more attempts\n",
    "- 0: the assessment was never solved\n",
    "\n",
    "\n",
    "# Refer to\n",
    "- *https://www.kaggle.com/c/data-science-bowl-2019/discussion/117019#latest-671781*\n",
    "- *https://www.kaggle.com/c/data-science-bowl-2019/discussion/115034#latest-675608*\n",
    "- *https://www.kaggle.com/c/data-science-bowl-2019/discussion/115585#latest-679819*\n",
    "- *https://www.kaggle.com/shahules/xgboost-feature-selection-dsbowl*"
   ]
  },
  {
   "cell_type": "code",
   "execution_count": 1,
   "metadata": {},
   "outputs": [],
   "source": [
    "import pandas as pd\n",
    "import numpy as np\n",
    "from matplotlib import pyplot as plt\n",
    "import seaborn as sns\n",
    "from IPython.display import display,HTML,Image, display_png\n",
    "import pickle\n",
    "import re\n",
    "from itertools import zip_longest\n",
    "from collections import Counter\n",
    "import datetime\n",
    "from datetime import datetime as dt\n",
    "import copy\n",
    "from functools import reduce\n",
    "from tqdm import tqdm_notebook as tqdm\n",
    "import os\n",
    "import multiprocessing\n",
    "import json\n",
    "import time\n",
    "from tqdm import tqdm\n",
    "from pandas import Panel"
   ]
  },
  {
   "cell_type": "markdown",
   "metadata": {},
   "source": [
    "## Set up "
   ]
  },
  {
   "cell_type": "code",
   "execution_count": 2,
   "metadata": {},
   "outputs": [],
   "source": [
    "N_CORE = multiprocessing.cpu_count()\n",
    "tqdm.pandas()"
   ]
  },
  {
   "cell_type": "code",
   "execution_count": 3,
   "metadata": {},
   "outputs": [],
   "source": [
    "df_train = pd.read_csv('../source/train.csv.zip')\n",
    "df_train_labels = pd.read_csv('../source/train_labels.csv.zip')\n",
    "df_specs = pd.read_csv('../source/specs.csv')"
   ]
  },
  {
   "cell_type": "code",
   "execution_count": 76,
   "metadata": {},
   "outputs": [],
   "source": [
    "df_test = pd.read_csv('../source/test.csv.zip')"
   ]
  },
  {
   "cell_type": "code",
   "execution_count": 4,
   "metadata": {},
   "outputs": [
    {
     "data": {
      "text/html": [
       "<div>\n",
       "<style scoped>\n",
       "    .dataframe tbody tr th:only-of-type {\n",
       "        vertical-align: middle;\n",
       "    }\n",
       "\n",
       "    .dataframe tbody tr th {\n",
       "        vertical-align: top;\n",
       "    }\n",
       "\n",
       "    .dataframe thead th {\n",
       "        text-align: right;\n",
       "    }\n",
       "</style>\n",
       "<table border=\"1\" class=\"dataframe\">\n",
       "  <thead>\n",
       "    <tr style=\"text-align: right;\">\n",
       "      <th></th>\n",
       "      <th>event_id</th>\n",
       "      <th>game_session</th>\n",
       "      <th>timestamp</th>\n",
       "      <th>event_data</th>\n",
       "      <th>installation_id</th>\n",
       "      <th>event_count</th>\n",
       "      <th>event_code</th>\n",
       "      <th>game_time</th>\n",
       "      <th>title</th>\n",
       "      <th>type</th>\n",
       "      <th>world</th>\n",
       "    </tr>\n",
       "  </thead>\n",
       "  <tbody>\n",
       "    <tr>\n",
       "      <th>0</th>\n",
       "      <td>27253bdc</td>\n",
       "      <td>45bb1e1b6b50c07b</td>\n",
       "      <td>2019-09-06T17:53:46.937Z</td>\n",
       "      <td>{\"event_code\": 2000, \"event_count\": 1}</td>\n",
       "      <td>0001e90f</td>\n",
       "      <td>1</td>\n",
       "      <td>2000</td>\n",
       "      <td>0</td>\n",
       "      <td>Welcome to Lost Lagoon!</td>\n",
       "      <td>Clip</td>\n",
       "      <td>NONE</td>\n",
       "    </tr>\n",
       "    <tr>\n",
       "      <th>1</th>\n",
       "      <td>27253bdc</td>\n",
       "      <td>17eeb7f223665f53</td>\n",
       "      <td>2019-09-06T17:54:17.519Z</td>\n",
       "      <td>{\"event_code\": 2000, \"event_count\": 1}</td>\n",
       "      <td>0001e90f</td>\n",
       "      <td>1</td>\n",
       "      <td>2000</td>\n",
       "      <td>0</td>\n",
       "      <td>Magma Peak - Level 1</td>\n",
       "      <td>Clip</td>\n",
       "      <td>MAGMAPEAK</td>\n",
       "    </tr>\n",
       "    <tr>\n",
       "      <th>2</th>\n",
       "      <td>77261ab5</td>\n",
       "      <td>0848ef14a8dc6892</td>\n",
       "      <td>2019-09-06T17:54:56.302Z</td>\n",
       "      <td>{\"version\":\"1.0\",\"event_count\":1,\"game_time\":0...</td>\n",
       "      <td>0001e90f</td>\n",
       "      <td>1</td>\n",
       "      <td>2000</td>\n",
       "      <td>0</td>\n",
       "      <td>Sandcastle Builder (Activity)</td>\n",
       "      <td>Activity</td>\n",
       "      <td>MAGMAPEAK</td>\n",
       "    </tr>\n",
       "  </tbody>\n",
       "</table>\n",
       "</div>"
      ],
      "text/plain": [
       "   event_id      game_session                 timestamp  \\\n",
       "0  27253bdc  45bb1e1b6b50c07b  2019-09-06T17:53:46.937Z   \n",
       "1  27253bdc  17eeb7f223665f53  2019-09-06T17:54:17.519Z   \n",
       "2  77261ab5  0848ef14a8dc6892  2019-09-06T17:54:56.302Z   \n",
       "\n",
       "                                          event_data installation_id  \\\n",
       "0             {\"event_code\": 2000, \"event_count\": 1}        0001e90f   \n",
       "1             {\"event_code\": 2000, \"event_count\": 1}        0001e90f   \n",
       "2  {\"version\":\"1.0\",\"event_count\":1,\"game_time\":0...        0001e90f   \n",
       "\n",
       "   event_count  event_code  game_time                          title  \\\n",
       "0            1        2000          0        Welcome to Lost Lagoon!   \n",
       "1            1        2000          0           Magma Peak - Level 1   \n",
       "2            1        2000          0  Sandcastle Builder (Activity)   \n",
       "\n",
       "       type      world  \n",
       "0      Clip       NONE  \n",
       "1      Clip  MAGMAPEAK  \n",
       "2  Activity  MAGMAPEAK  "
      ]
     },
     "execution_count": 4,
     "metadata": {},
     "output_type": "execute_result"
    }
   ],
   "source": [
    "df_train.head(3)"
   ]
  },
  {
   "cell_type": "code",
   "execution_count": 5,
   "metadata": {},
   "outputs": [
    {
     "data": {
      "text/html": [
       "<div>\n",
       "<style scoped>\n",
       "    .dataframe tbody tr th:only-of-type {\n",
       "        vertical-align: middle;\n",
       "    }\n",
       "\n",
       "    .dataframe tbody tr th {\n",
       "        vertical-align: top;\n",
       "    }\n",
       "\n",
       "    .dataframe thead th {\n",
       "        text-align: right;\n",
       "    }\n",
       "</style>\n",
       "<table border=\"1\" class=\"dataframe\">\n",
       "  <thead>\n",
       "    <tr style=\"text-align: right;\">\n",
       "      <th></th>\n",
       "      <th>game_session</th>\n",
       "      <th>installation_id</th>\n",
       "      <th>title</th>\n",
       "      <th>num_correct</th>\n",
       "      <th>num_incorrect</th>\n",
       "      <th>accuracy</th>\n",
       "      <th>accuracy_group</th>\n",
       "    </tr>\n",
       "  </thead>\n",
       "  <tbody>\n",
       "    <tr>\n",
       "      <th>0</th>\n",
       "      <td>6bdf9623adc94d89</td>\n",
       "      <td>0006a69f</td>\n",
       "      <td>Mushroom Sorter (Assessment)</td>\n",
       "      <td>1</td>\n",
       "      <td>0</td>\n",
       "      <td>1.0</td>\n",
       "      <td>3</td>\n",
       "    </tr>\n",
       "    <tr>\n",
       "      <th>1</th>\n",
       "      <td>77b8ee947eb84b4e</td>\n",
       "      <td>0006a69f</td>\n",
       "      <td>Bird Measurer (Assessment)</td>\n",
       "      <td>0</td>\n",
       "      <td>11</td>\n",
       "      <td>0.0</td>\n",
       "      <td>0</td>\n",
       "    </tr>\n",
       "    <tr>\n",
       "      <th>2</th>\n",
       "      <td>901acc108f55a5a1</td>\n",
       "      <td>0006a69f</td>\n",
       "      <td>Mushroom Sorter (Assessment)</td>\n",
       "      <td>1</td>\n",
       "      <td>0</td>\n",
       "      <td>1.0</td>\n",
       "      <td>3</td>\n",
       "    </tr>\n",
       "  </tbody>\n",
       "</table>\n",
       "</div>"
      ],
      "text/plain": [
       "       game_session installation_id                         title  \\\n",
       "0  6bdf9623adc94d89        0006a69f  Mushroom Sorter (Assessment)   \n",
       "1  77b8ee947eb84b4e        0006a69f    Bird Measurer (Assessment)   \n",
       "2  901acc108f55a5a1        0006a69f  Mushroom Sorter (Assessment)   \n",
       "\n",
       "   num_correct  num_incorrect  accuracy  accuracy_group  \n",
       "0            1              0       1.0               3  \n",
       "1            0             11       0.0               0  \n",
       "2            1              0       1.0               3  "
      ]
     },
     "execution_count": 5,
     "metadata": {},
     "output_type": "execute_result"
    }
   ],
   "source": [
    "df_train_labels.head(3)"
   ]
  },
  {
   "cell_type": "code",
   "execution_count": 6,
   "metadata": {},
   "outputs": [
    {
     "data": {
      "text/html": [
       "<div>\n",
       "<style scoped>\n",
       "    .dataframe tbody tr th:only-of-type {\n",
       "        vertical-align: middle;\n",
       "    }\n",
       "\n",
       "    .dataframe tbody tr th {\n",
       "        vertical-align: top;\n",
       "    }\n",
       "\n",
       "    .dataframe thead th {\n",
       "        text-align: right;\n",
       "    }\n",
       "</style>\n",
       "<table border=\"1\" class=\"dataframe\">\n",
       "  <thead>\n",
       "    <tr style=\"text-align: right;\">\n",
       "      <th></th>\n",
       "      <th>event_id</th>\n",
       "      <th>info</th>\n",
       "      <th>args</th>\n",
       "    </tr>\n",
       "  </thead>\n",
       "  <tbody>\n",
       "    <tr>\n",
       "      <th>0</th>\n",
       "      <td>2b9272f4</td>\n",
       "      <td>The end of system-initiated feedback (Correct)...</td>\n",
       "      <td>[{\"name\":\"game_time\",\"type\":\"int\",\"info\":\"mill...</td>\n",
       "    </tr>\n",
       "    <tr>\n",
       "      <th>1</th>\n",
       "      <td>df4fe8b6</td>\n",
       "      <td>The end of system-initiated feedback (Incorrec...</td>\n",
       "      <td>[{\"name\":\"game_time\",\"type\":\"int\",\"info\":\"mill...</td>\n",
       "    </tr>\n",
       "    <tr>\n",
       "      <th>2</th>\n",
       "      <td>3babcb9b</td>\n",
       "      <td>The end of system-initiated instruction event ...</td>\n",
       "      <td>[{\"name\":\"game_time\",\"type\":\"int\",\"info\":\"mill...</td>\n",
       "    </tr>\n",
       "  </tbody>\n",
       "</table>\n",
       "</div>"
      ],
      "text/plain": [
       "   event_id                                               info  \\\n",
       "0  2b9272f4  The end of system-initiated feedback (Correct)...   \n",
       "1  df4fe8b6  The end of system-initiated feedback (Incorrec...   \n",
       "2  3babcb9b  The end of system-initiated instruction event ...   \n",
       "\n",
       "                                                args  \n",
       "0  [{\"name\":\"game_time\",\"type\":\"int\",\"info\":\"mill...  \n",
       "1  [{\"name\":\"game_time\",\"type\":\"int\",\"info\":\"mill...  \n",
       "2  [{\"name\":\"game_time\",\"type\":\"int\",\"info\":\"mill...  "
      ]
     },
     "execution_count": 6,
     "metadata": {},
     "output_type": "execute_result"
    }
   ],
   "source": [
    "df_specs.head(3)"
   ]
  },
  {
   "cell_type": "code",
   "execution_count": 77,
   "metadata": {},
   "outputs": [
    {
     "data": {
      "text/html": [
       "<div>\n",
       "<style scoped>\n",
       "    .dataframe tbody tr th:only-of-type {\n",
       "        vertical-align: middle;\n",
       "    }\n",
       "\n",
       "    .dataframe tbody tr th {\n",
       "        vertical-align: top;\n",
       "    }\n",
       "\n",
       "    .dataframe thead th {\n",
       "        text-align: right;\n",
       "    }\n",
       "</style>\n",
       "<table border=\"1\" class=\"dataframe\">\n",
       "  <thead>\n",
       "    <tr style=\"text-align: right;\">\n",
       "      <th></th>\n",
       "      <th>event_id</th>\n",
       "      <th>game_session</th>\n",
       "      <th>timestamp</th>\n",
       "      <th>event_data</th>\n",
       "      <th>installation_id</th>\n",
       "      <th>event_count</th>\n",
       "      <th>event_code</th>\n",
       "      <th>game_time</th>\n",
       "      <th>title</th>\n",
       "      <th>type</th>\n",
       "      <th>world</th>\n",
       "    </tr>\n",
       "  </thead>\n",
       "  <tbody>\n",
       "    <tr>\n",
       "      <th>0</th>\n",
       "      <td>27253bdc</td>\n",
       "      <td>0ea9ecc81a565215</td>\n",
       "      <td>2019-09-10T16:50:24.910Z</td>\n",
       "      <td>{\"event_code\": 2000, \"event_count\": 1}</td>\n",
       "      <td>00abaee7</td>\n",
       "      <td>1</td>\n",
       "      <td>2000</td>\n",
       "      <td>0</td>\n",
       "      <td>Welcome to Lost Lagoon!</td>\n",
       "      <td>Clip</td>\n",
       "      <td>NONE</td>\n",
       "    </tr>\n",
       "    <tr>\n",
       "      <th>1</th>\n",
       "      <td>27253bdc</td>\n",
       "      <td>c1ea43d8b8261d27</td>\n",
       "      <td>2019-09-10T16:50:55.503Z</td>\n",
       "      <td>{\"event_code\": 2000, \"event_count\": 1}</td>\n",
       "      <td>00abaee7</td>\n",
       "      <td>1</td>\n",
       "      <td>2000</td>\n",
       "      <td>0</td>\n",
       "      <td>Magma Peak - Level 1</td>\n",
       "      <td>Clip</td>\n",
       "      <td>MAGMAPEAK</td>\n",
       "    </tr>\n",
       "    <tr>\n",
       "      <th>2</th>\n",
       "      <td>27253bdc</td>\n",
       "      <td>7ed86c6b72e725e2</td>\n",
       "      <td>2019-09-10T16:51:51.805Z</td>\n",
       "      <td>{\"event_code\": 2000, \"event_count\": 1}</td>\n",
       "      <td>00abaee7</td>\n",
       "      <td>1</td>\n",
       "      <td>2000</td>\n",
       "      <td>0</td>\n",
       "      <td>Magma Peak - Level 2</td>\n",
       "      <td>Clip</td>\n",
       "      <td>MAGMAPEAK</td>\n",
       "    </tr>\n",
       "  </tbody>\n",
       "</table>\n",
       "</div>"
      ],
      "text/plain": [
       "   event_id      game_session                 timestamp  \\\n",
       "0  27253bdc  0ea9ecc81a565215  2019-09-10T16:50:24.910Z   \n",
       "1  27253bdc  c1ea43d8b8261d27  2019-09-10T16:50:55.503Z   \n",
       "2  27253bdc  7ed86c6b72e725e2  2019-09-10T16:51:51.805Z   \n",
       "\n",
       "                               event_data installation_id  event_count  \\\n",
       "0  {\"event_code\": 2000, \"event_count\": 1}        00abaee7            1   \n",
       "1  {\"event_code\": 2000, \"event_count\": 1}        00abaee7            1   \n",
       "2  {\"event_code\": 2000, \"event_count\": 1}        00abaee7            1   \n",
       "\n",
       "   event_code  game_time                    title  type      world  \n",
       "0        2000          0  Welcome to Lost Lagoon!  Clip       NONE  \n",
       "1        2000          0     Magma Peak - Level 1  Clip  MAGMAPEAK  \n",
       "2        2000          0     Magma Peak - Level 2  Clip  MAGMAPEAK  "
      ]
     },
     "execution_count": 77,
     "metadata": {},
     "output_type": "execute_result"
    }
   ],
   "source": [
    "df_test.head(3)"
   ]
  },
  {
   "cell_type": "code",
   "execution_count": null,
   "metadata": {},
   "outputs": [],
   "source": []
  },
  {
   "cell_type": "markdown",
   "metadata": {},
   "source": [
    "# Clean data\n",
    "## df_train_labels"
   ]
  },
  {
   "cell_type": "code",
   "execution_count": 7,
   "metadata": {},
   "outputs": [
    {
     "data": {
      "text/html": [
       "<div>\n",
       "<style scoped>\n",
       "    .dataframe tbody tr th:only-of-type {\n",
       "        vertical-align: middle;\n",
       "    }\n",
       "\n",
       "    .dataframe tbody tr th {\n",
       "        vertical-align: top;\n",
       "    }\n",
       "\n",
       "    .dataframe thead th {\n",
       "        text-align: right;\n",
       "    }\n",
       "</style>\n",
       "<table border=\"1\" class=\"dataframe\">\n",
       "  <thead>\n",
       "    <tr style=\"text-align: right;\">\n",
       "      <th></th>\n",
       "      <th>game_session</th>\n",
       "      <th>installation_id</th>\n",
       "      <th>title</th>\n",
       "      <th>num_correct</th>\n",
       "      <th>num_incorrect</th>\n",
       "      <th>accuracy</th>\n",
       "      <th>accuracy_group</th>\n",
       "    </tr>\n",
       "  </thead>\n",
       "  <tbody>\n",
       "    <tr>\n",
       "      <th>23</th>\n",
       "      <td>cace4c493ac347e3</td>\n",
       "      <td>002db7e3</td>\n",
       "      <td>Bird Measurer (Assessment)</td>\n",
       "      <td>1</td>\n",
       "      <td>10</td>\n",
       "      <td>0.090909</td>\n",
       "      <td>1</td>\n",
       "    </tr>\n",
       "    <tr>\n",
       "      <th>82</th>\n",
       "      <td>7e02851957b1e0df</td>\n",
       "      <td>00fc65b6</td>\n",
       "      <td>Chest Sorter (Assessment)</td>\n",
       "      <td>1</td>\n",
       "      <td>10</td>\n",
       "      <td>0.090909</td>\n",
       "      <td>1</td>\n",
       "    </tr>\n",
       "    <tr>\n",
       "      <th>681</th>\n",
       "      <td>2170a71b0a17a8b1</td>\n",
       "      <td>08987c08</td>\n",
       "      <td>Cauldron Filler (Assessment)</td>\n",
       "      <td>1</td>\n",
       "      <td>14</td>\n",
       "      <td>0.066667</td>\n",
       "      <td>1</td>\n",
       "    </tr>\n",
       "    <tr>\n",
       "      <th>701</th>\n",
       "      <td>4b56d80d68ebf4f6</td>\n",
       "      <td>08987c08</td>\n",
       "      <td>Cauldron Filler (Assessment)</td>\n",
       "      <td>1</td>\n",
       "      <td>14</td>\n",
       "      <td>0.066667</td>\n",
       "      <td>1</td>\n",
       "    </tr>\n",
       "    <tr>\n",
       "      <th>743</th>\n",
       "      <td>8c8d5067b69f86c8</td>\n",
       "      <td>08987c08</td>\n",
       "      <td>Mushroom Sorter (Assessment)</td>\n",
       "      <td>1</td>\n",
       "      <td>10</td>\n",
       "      <td>0.090909</td>\n",
       "      <td>1</td>\n",
       "    </tr>\n",
       "    <tr>\n",
       "      <th>813</th>\n",
       "      <td>fd27f7c1de0a63a8</td>\n",
       "      <td>08987c08</td>\n",
       "      <td>Cauldron Filler (Assessment)</td>\n",
       "      <td>1</td>\n",
       "      <td>23</td>\n",
       "      <td>0.041667</td>\n",
       "      <td>1</td>\n",
       "    </tr>\n",
       "    <tr>\n",
       "      <th>1270</th>\n",
       "      <td>de0d1bd6d696eeb8</td>\n",
       "      <td>1091d87b</td>\n",
       "      <td>Bird Measurer (Assessment)</td>\n",
       "      <td>1</td>\n",
       "      <td>10</td>\n",
       "      <td>0.090909</td>\n",
       "      <td>1</td>\n",
       "    </tr>\n",
       "    <tr>\n",
       "      <th>2071</th>\n",
       "      <td>9ec1bcd36a0a00fe</td>\n",
       "      <td>1b142503</td>\n",
       "      <td>Chest Sorter (Assessment)</td>\n",
       "      <td>1</td>\n",
       "      <td>10</td>\n",
       "      <td>0.090909</td>\n",
       "      <td>1</td>\n",
       "    </tr>\n",
       "    <tr>\n",
       "      <th>2522</th>\n",
       "      <td>472ed774445f5492</td>\n",
       "      <td>1f71eb61</td>\n",
       "      <td>Mushroom Sorter (Assessment)</td>\n",
       "      <td>1</td>\n",
       "      <td>10</td>\n",
       "      <td>0.090909</td>\n",
       "      <td>1</td>\n",
       "    </tr>\n",
       "    <tr>\n",
       "      <th>3177</th>\n",
       "      <td>3016d752926830b4</td>\n",
       "      <td>2ac9d9d3</td>\n",
       "      <td>Chest Sorter (Assessment)</td>\n",
       "      <td>1</td>\n",
       "      <td>10</td>\n",
       "      <td>0.090909</td>\n",
       "      <td>1</td>\n",
       "    </tr>\n",
       "  </tbody>\n",
       "</table>\n",
       "</div>"
      ],
      "text/plain": [
       "          game_session installation_id                         title  \\\n",
       "23    cace4c493ac347e3        002db7e3    Bird Measurer (Assessment)   \n",
       "82    7e02851957b1e0df        00fc65b6     Chest Sorter (Assessment)   \n",
       "681   2170a71b0a17a8b1        08987c08  Cauldron Filler (Assessment)   \n",
       "701   4b56d80d68ebf4f6        08987c08  Cauldron Filler (Assessment)   \n",
       "743   8c8d5067b69f86c8        08987c08  Mushroom Sorter (Assessment)   \n",
       "813   fd27f7c1de0a63a8        08987c08  Cauldron Filler (Assessment)   \n",
       "1270  de0d1bd6d696eeb8        1091d87b    Bird Measurer (Assessment)   \n",
       "2071  9ec1bcd36a0a00fe        1b142503     Chest Sorter (Assessment)   \n",
       "2522  472ed774445f5492        1f71eb61  Mushroom Sorter (Assessment)   \n",
       "3177  3016d752926830b4        2ac9d9d3     Chest Sorter (Assessment)   \n",
       "\n",
       "      num_correct  num_incorrect  accuracy  accuracy_group  \n",
       "23              1             10  0.090909               1  \n",
       "82              1             10  0.090909               1  \n",
       "681             1             14  0.066667               1  \n",
       "701             1             14  0.066667               1  \n",
       "743             1             10  0.090909               1  \n",
       "813             1             23  0.041667               1  \n",
       "1270            1             10  0.090909               1  \n",
       "2071            1             10  0.090909               1  \n",
       "2522            1             10  0.090909               1  \n",
       "3177            1             10  0.090909               1  "
      ]
     },
     "execution_count": 7,
     "metadata": {},
     "output_type": "execute_result"
    }
   ],
   "source": [
    "#almost same \n",
    "df_train_labels.loc[df_train_labels.accuracy != (df_train_labels.num_correct.astype(float) / (df_train_labels.num_correct + df_train_labels.num_incorrect) )].head(10)\n"
   ]
  },
  {
   "cell_type": "markdown",
   "metadata": {},
   "source": [
    "\n",
    "### There are idx which does not contain in list of train_label "
   ]
  },
  {
   "cell_type": "code",
   "execution_count": 8,
   "metadata": {},
   "outputs": [
    {
     "name": "stdout",
     "output_type": "stream",
     "text": [
      "21239\n",
      "17690\n"
     ]
    }
   ],
   "source": [
    "\n",
    "set_session_instid_train = set(df_train[df_train.type == 'Assessment'].game_session + df_train[df_train.type == 'Assessment'].installation_id) \n",
    "# set_session_instid_train_valid = set(df_train_not_start[df_train_not_start.type == 'Assessment'].game_session + df_train_not_start[df_train_not_start.type == 'Assessment'].installation_id) \n",
    "set_session_instid_label = set(df_train_labels.game_session+df_train_labels.installation_id)\n",
    "print(len(set_session_instid_train))\n",
    "# print(len(set_session_instid_train_valid))\n",
    "print(len(set_session_instid_label) )"
   ]
  },
  {
   "cell_type": "code",
   "execution_count": 9,
   "metadata": {},
   "outputs": [],
   "source": [
    "\n",
    "ls_game_session_non_taget = list(set(df_train.game_session)-set(df_train_labels.game_session))"
   ]
  },
  {
   "cell_type": "code",
   "execution_count": null,
   "metadata": {},
   "outputs": [],
   "source": []
  },
  {
   "cell_type": "markdown",
   "metadata": {},
   "source": [
    "## df_train"
   ]
  },
  {
   "cell_type": "code",
   "execution_count": 10,
   "metadata": {},
   "outputs": [
    {
     "data": {
      "text/plain": [
       "event_id           object\n",
       "game_session       object\n",
       "timestamp          object\n",
       "event_data         object\n",
       "installation_id    object\n",
       "event_count         int64\n",
       "event_code          int64\n",
       "game_time           int64\n",
       "title              object\n",
       "type               object\n",
       "world              object\n",
       "dtype: object"
      ]
     },
     "execution_count": 10,
     "metadata": {},
     "output_type": "execute_result"
    }
   ],
   "source": [
    "# Check type\n",
    "df_train.dtypes"
   ]
  },
  {
   "cell_type": "code",
   "execution_count": 11,
   "metadata": {},
   "outputs": [
    {
     "data": {
      "text/plain": [
       "event_id           0\n",
       "game_session       0\n",
       "timestamp          0\n",
       "event_data         0\n",
       "installation_id    0\n",
       "event_count        0\n",
       "event_code         0\n",
       "game_time          0\n",
       "title              0\n",
       "type               0\n",
       "world              0\n",
       "dtype: int64"
      ]
     },
     "execution_count": 11,
     "metadata": {},
     "output_type": "execute_result"
    }
   ],
   "source": [
    "# Check type\n",
    "df_train.isnull().sum()"
   ]
  },
  {
   "cell_type": "code",
   "execution_count": 81,
   "metadata": {},
   "outputs": [
    {
     "name": "stdout",
     "output_type": "stream",
     "text": [
      "event_id 1325467d    274673\n",
      "bb3e370b    256179\n",
      "cf82af56    224694\n",
      "5e812b27    206129\n",
      "cfbd47c8    199734\n",
      "90efca10    185211\n",
      "27253bdc    183676\n",
      "76babcde    182235\n",
      "b2dba42b    169921\n",
      "1bb5fbdb    168344\n",
      "884228c8    161890\n",
      "6c517a88    160593\n",
      "7372e1a5    158917\n",
      "56bcd38d    151200\n",
      "0330ab6a    147592\n",
      "2230fab4    146249\n",
      "0a08139c    145510\n",
      "71fe8f75    144797\n",
      "4ef8cdd3    131972\n",
      "7dfe6d8a    128368\n",
      "67439901    127457\n",
      "5c3d2b2f    126738\n",
      "df4940d3    126255\n",
      "587b5989    118442\n",
      "5e3ea25a    114708\n",
      "f71c4741    113304\n",
      "f7e47413    111442\n",
      "02a42007    109098\n",
      "5154fc30    108199\n",
      "9ee1c98c    107498\n",
      "             ...  \n",
      "6aeafed4       219\n",
      "5f5b2617       173\n",
      "eb2c19cd       155\n",
      "05ad839b       132\n",
      "4e5fc6f5       120\n",
      "16667cc5       102\n",
      "26a5a3dd        97\n",
      "30df3273        72\n",
      "bfc77bd6        67\n",
      "7fd1ac25        43\n",
      "3a4be871        33\n",
      "13f56524        26\n",
      "01ca3a3c        25\n",
      "2ec694de        24\n",
      "29a42aea        14\n",
      "9554a50b        13\n",
      "ecc6157f        12\n",
      "6077cc36        11\n",
      "e4d32835        10\n",
      "ab4ec3a4         5\n",
      "0ce40006         4\n",
      "611485c5         3\n",
      "5dc079d8         1\n",
      "003cd2ee         1\n",
      "dcb1663e         1\n",
      "a8cc6fec         1\n",
      "4074bac2         1\n",
      "17ca3959         1\n",
      "1b54d27f         1\n",
      "119b5b02         1\n",
      "Name: event_id, Length: 384, dtype: int64\n",
      " \n",
      "game_session 6e6e697f2e593de1    3368\n",
      "bb1f09ec062b6660    3182\n",
      "33495c8f126e2ef9    2505\n",
      "34c82b23355e378c    2456\n",
      "8fe0ab3c3e448a04    2398\n",
      "6e98fc08f99fd7c2    2375\n",
      "1520f3d49669573d    2250\n",
      "39d2cbe5ce1896ea    2177\n",
      "7f27efcf7b2b7798    2073\n",
      "1f59d4f65ccbcb74    2060\n",
      "7931393f7749396a    1880\n",
      "dadec178b31d95fb    1820\n",
      "3e81b1601e7da134    1770\n",
      "98f54b0863647562    1720\n",
      "d72685dfdc0a6505    1690\n",
      "23fd0b7bdeb2b4e5    1651\n",
      "bf0a22962a4fe98d    1645\n",
      "6adb3d0e2d9f126d    1635\n",
      "fe39cd76a3bf5a45    1630\n",
      "ca8e63e3624150bd    1585\n",
      "2a3f8825733241e9    1551\n",
      "f8f413b9e1caa0f1    1525\n",
      "f58fcf37dd4dbee7    1517\n",
      "51aa809764424796    1515\n",
      "48e054ec37bb42a7    1503\n",
      "a1e85794f6db9871    1480\n",
      "4a9c625775b13b9d    1475\n",
      "38d7d39fc6947c5e    1460\n",
      "0d14458017eadb82    1460\n",
      "e68fed5dc9abeaf2    1452\n",
      "                    ... \n",
      "8349d96e4c3f2391       1\n",
      "655c1c94c24e1fb6       1\n",
      "7b863c7f3f6b8afa       1\n",
      "b570dabcb7b5d2fe       1\n",
      "780620bfdad823f0       1\n",
      "572cd22b1fe7c6f0       1\n",
      "9bb972e4888e7649       1\n",
      "c8de2b0565878427       1\n",
      "356445f275424b3f       1\n",
      "1094f17a1d4356ef       1\n",
      "73459447143fd2f7       1\n",
      "3941e629c2887724       1\n",
      "c5368a791aea4862       1\n",
      "cd9c0cf4649f7dcc       1\n",
      "210e224580a6930a       1\n",
      "85d56b105d52980a       1\n",
      "e68921d37818104c       1\n",
      "0066e070f164d016       1\n",
      "7fa57b578a3c5c20       1\n",
      "952fd1de768a64fc       1\n",
      "b7b7e9668ed10465       1\n",
      "9114fc9c625cd654       1\n",
      "f5bb1f9915a73048       1\n",
      "e1c051e92f7b3f80       1\n",
      "69fe1b3750a09e64       1\n",
      "d7070bbaf40d7b6d       1\n",
      "42dfb3437115b19a       1\n",
      "ed92d75e07958abe       1\n",
      "5ee4e8bb74614425       1\n",
      "b1e6207aa69d3956       1\n",
      "Name: game_session, Length: 303319, dtype: int64\n",
      " \n",
      "timestamp  \n",
      "event_data {\"event_code\": 2000, \"event_count\": 1}                                                                                                                                                                                                                                                                                                                                                                                                                                                                                                                                 183676\n",
      "{\"version\":\"1.0\",\"event_count\":1,\"game_time\":0,\"event_code\":2000}                                                                                                                                                                                                                                                                                                                                                                                                                                                                                                       59872\n",
      "{\"version\":\"1.0\",\"round\":0,\"event_count\":1,\"game_time\":0,\"event_code\":2000}                                                                                                                                                                                                                                                                                                                                                                                                                                                                                             45959\n",
      "{\"version\":\"1\",\"round\":0,\"event_count\":1,\"game_time\":0,\"event_code\":2000}                                                                                                                                                                                                                                                                                                                                                                                                                                                                                                7577\n",
      "{\"description\":\"Let's set off these fireworks. We can drag them to any height we want!\",\"identifier\":\"Dot_LetsFireworks,Dot_DragAnyHeight\",\"media_type\":\"audio\",\"total_duration\":3885,\"event_count\":2,\"game_time\":0,\"event_code\":3010}                                                                                                                                                                                                                                                                                                                                   6327\n",
      "{\"version\":\"1.0\",\"level\":0,\"round\":0,\"event_count\":1,\"game_time\":0,\"event_code\":2000}                                                                                                                                                                                                                                                                                                                                                                                                                                                                                    6235\n",
      "{\"stage_number\":1,\"event_count\":2,\"game_time\":0,\"event_code\":2020}                                                                                                                                                                                                                                                                                                                                                                                                                                                                                                       3108\n",
      "{\"description\":\"Use the caterpillars to measure the birds. Pull the caterpillars out of their holes with your finger.\",\"identifier\":\"Dot_UseCaterpillars,Dot_PullCaterpillarsFinger\",\"media_type\":\"audio\",\"total_duration\":4410,\"event_count\":3,\"game_time\":0,\"event_code\":3010}                                                                                                                                                                                                                                                                                         3103\n",
      "{\"description\":\"Put the right sized bucket under each statue. Match the bucket to the same sized statue!\",\"identifier\":\"Dot_PutRightBucket,Dot_MatchBucket\",\"media_type\":\"audio\",\"total_duration\":4580,\"event_count\":2,\"game_time\":0,\"event_code\":3010}                                                                                                                                                                                                                                                                                                                   736\n",
      "{\"description\":\"Welcome to the garden! Which could really use some flowers... Oh oh, a watering can! Pick it up!\",\"identifier\":\"intro,wateringcan\",\"media_type\":\"animation\",\"total_duration\":6733,\"event_count\":2,\"game_time\":0,\"event_code\":3010}                                                                                                                                                                                                                                                                                                                        698\n",
      "{\"description\":\"Let's build a sandcastle! First, fill up your mold with sand! You can use the shovel here. The mold gives the sand its shape!\",\"identifier\":\"Dot_LetsSandcastle,Dot_FillMold,Dot_MoldShape\",\"media_type\":\"audio\",\"total_duration\":6758,\"event_count\":2,\"game_time\":0,\"event_code\":3010}                                                                                                                                                                                                                                                                   602\n",
      "{\"description\":\"Look at all those itty, bitty chickies! You can drag the chickies to the see saw! Put them on either side.\",\"identifier\":\"lookatem,dragchicks\",\"media_type\":\"animation\",\"total_duration\":7166,\"event_count\":2,\"game_time\":0,\"event_code\":3010}                                                                                                                                                                                                                                                                                                            499\n",
      "{\"event_count\":2,\"game_time\":0,\"event_code\":2020}                                                                                                                                                                                                                                                                                                                                                                                                                                                                                                                         482\n",
      "{\"description\":\"Order the treasure chests from lightest to heaviest!\",\"identifier\":\"Dot_OrderChests\",\"media_type\":\"audio\",\"total_duration\":2530,\"event_count\":3,\"game_time\":0,\"event_code\":3010}                                                                                                                                                                                                                                                                                                                                                                          481\n",
      "{\"description\":\"These dinosaurs are awfully thirsty. Fill in the clouds to make it rain. That will fill up the pond with water!\",\"identifier\":\"Buddy_DinosaursAwfullyThirsty,Buddy_FillClouds\",\"media_type\":\"audio\",\"total_duration\":6820,\"event_count\":2,\"game_time\":0,\"event_code\":3010}                                                                                                                                                                                                                                                                                479\n",
      "{\"description\":\"We've got to balance this scale! Fill the trays with gems so both sides weigh the same! Use your finger to drag the gems to the trays!\",\"identifier\":\"Dot_BalanceScale,Dot_FillTrays,Dot_UseFingerDragGems\",\"media_type\":\"audio\",\"total_duration\":6970,\"event_count\":3,\"game_time\":0,\"event_code\":3010}                                                                                                                                                                                                                                                   407\n",
      "{\"crystals\":[{\"id\":\"gem07\",\"weight\":6},{\"id\":\"gem05\",\"weight\":4},{\"id\":\"gem01\",\"weight\":1},{\"id\":\"gem03\",\"weight\":3},{\"id\":\"gem02\",\"weight\":1},{\"id\":\"gem08\",\"weight\":6},{\"id\":\"gem04\",\"weight\":3},{\"id\":\"gem06\",\"weight\":4}],\"event_count\":2,\"game_time\":0,\"event_code\":2020}                                                                                                                                                                                                                                                                                            406\n",
      "{\"previous_jars\":[],\"round\":1,\"event_count\":2,\"game_time\":0,\"event_code\":2020}                                                                                                                                                                                                                                                                                                                                                                                                                                                                                            372\n",
      "{\"description\":\"Pull three mushrooms out of the ground and order them from shortest to tallest!\",\"identifier\":\"Dot_PullMushrooms\",\"media_type\":\"audio\",\"total_duration\":3000,\"event_count\":3,\"game_time\":0,\"event_code\":3010}                                                                                                                                                                                                                                                                                                                                             366\n",
      "{\"event_count\":2,\"game_time\":0,\"event_code\":2025}                                                                                                                                                                                                                                                                                                                                                                                                                                                                                                                         366\n",
      "{\"description\":\"Use the rocks to weigh down the logs! Tap a pan balance to switch the weights!\",\"identifier\":\"Buddy_RocksLogs,Buddy_TapToSwitch\",\"media_type\":\"audio\",\"total_duration\":5940,\"event_count\":2,\"game_time\":0,\"event_code\":3010}                                                                                                                                                                                                                                                                                                                              233\n",
      "{\"description\":\"Put the right sized bucket under each statue. Match the bucket to the same sized statue!\",\"identifier\":\"Dot_PutRightBucket,Dot_MatchBucket\",\"media_type\":\"audio\",\"total_duration\":4580,\"event_count\":2,\"game_time\":395,\"event_code\":3010}                                                                                                                                                                                                                                                                                                                 220\n",
      "{\"description\":\"Put the right sized bucket under each statue. Match the bucket to the same sized statue!\",\"identifier\":\"Dot_PutRightBucket,Dot_MatchBucket\",\"media_type\":\"audio\",\"total_duration\":4580,\"event_count\":2,\"game_time\":388,\"event_code\":3010}                                                                                                                                                                                                                                                                                                                 219\n",
      "{\"description\":\"Put the right sized bucket under each statue. Match the bucket to the same sized statue!\",\"identifier\":\"Dot_PutRightBucket,Dot_MatchBucket\",\"media_type\":\"audio\",\"total_duration\":4580,\"event_count\":2,\"game_time\":391,\"event_code\":3010}                                                                                                                                                                                                                                                                                                                 214\n",
      "{\"description\":\"Put the right sized bucket under each statue. Match the bucket to the same sized statue!\",\"identifier\":\"Dot_PutRightBucket,Dot_MatchBucket\",\"media_type\":\"audio\",\"total_duration\":4580,\"event_count\":2,\"game_time\":396,\"event_code\":3010}                                                                                                                                                                                                                                                                                                                 202\n",
      "{\"description\":\"Put the right sized bucket under each statue. Match the bucket to the same sized statue!\",\"identifier\":\"Dot_PutRightBucket,Dot_MatchBucket\",\"media_type\":\"audio\",\"total_duration\":4580,\"event_count\":2,\"game_time\":394,\"event_code\":3010}                                                                                                                                                                                                                                                                                                                 202\n",
      "{\"description\":\"Put the right sized bucket under each statue. Match the bucket to the same sized statue!\",\"identifier\":\"Dot_PutRightBucket,Dot_MatchBucket\",\"media_type\":\"audio\",\"total_duration\":4580,\"event_count\":2,\"game_time\":398,\"event_code\":3010}                                                                                                                                                                                                                                                                                                                 200\n",
      "{\"description\":\"Put the right sized bucket under each statue. Match the bucket to the same sized statue!\",\"identifier\":\"Dot_PutRightBucket,Dot_MatchBucket\",\"media_type\":\"audio\",\"total_duration\":4580,\"event_count\":2,\"game_time\":389,\"event_code\":3010}                                                                                                                                                                                                                                                                                                                 196\n",
      "{\"description\":\"Put the right sized bucket under each statue. Match the bucket to the same sized statue!\",\"identifier\":\"Dot_PutRightBucket,Dot_MatchBucket\",\"media_type\":\"audio\",\"total_duration\":4580,\"event_count\":2,\"game_time\":390,\"event_code\":3010}                                                                                                                                                                                                                                                                                                                 188\n",
      "{\"description\":\"Put the right sized bucket under each statue. Match the bucket to the same sized statue!\",\"identifier\":\"Dot_PutRightBucket,Dot_MatchBucket\",\"media_type\":\"audio\",\"total_duration\":4580,\"event_count\":2,\"game_time\":393,\"event_code\":3010}                                                                                                                                                                                                                                                                                                                 186\n",
      "                                                                                                                                                                                                                                                                                                                                                                                                                                                                                                                                                                        ...  \n",
      "{\"dinosaur\":\"mikey\",\"size\":1,\"dinosaurs\":[{\"name\":\"none\",\"size\":0},{\"name\":\"none\",\"size\":0},{\"name\":\"none\",\"size\":0},{\"name\":\"none\",\"size\":0}],\"coordinates\":{\"x\":479,\"y\":731,\"stage_width\":1015,\"stage_height\":762},\"round\":2,\"event_count\":41,\"game_time\":43232,\"event_code\":4030}                                                                                                                                                                                                                                                                                        1\n",
      "{\"round_target\":{\"size\":1,\"type\":\"Tub\",\"animal\":\"sheep\"},\"options\":[1,2],\"animals\":[\"sheep\"],\"level\":1,\"round\":2,\"event_count\":15,\"game_time\":27837,\"event_code\":2020}                                                                                                                                                                                                                                                                                                                                                                                                      1\n",
      "{\"round_target\":{\"size\":3,\"type\":\"Water\",\"animal\":\"hog\"},\"options\":[0,3],\"animals\":[\"hog\"],\"level\":2,\"round\":4,\"event_count\":38,\"game_time\":40131,\"event_code\":2020}                                                                                                                                                                                                                                                                                                                                                                                                        1\n",
      "{\"description\":\"Watch the see-saw go up and down! idle\",\"identifier\":\"watchtheseesaw,idle\",\"media_type\":\"animation\",\"duration\":0,\"event_count\":296,\"game_time\":308450,\"event_code\":3110}                                                                                                                                                                                                                                                                                                                                                                                    1\n",
      "{\"weight\":1,\"source\":\"scale\",\"resources\":[3,3],\"coordinates\":{\"x\":311,\"y\":364,\"stage_width\":1015,\"stage_height\":762},\"round\":2,\"event_count\":68,\"game_time\":48259,\"event_code\":4030}                                                                                                                                                                                                                                                                                                                                                                                        1\n",
      "{\"round_target\":{\"size\":3,\"type\":\"Water\",\"animal\":\"hog\"},\"options\":[2,1,3],\"animals\":[\"hog\"],\"level\":5,\"round\":12,\"event_count\":106,\"game_time\":126676,\"event_code\":2020}                                                                                                                                                                                                                                                                                                                                                                                                   1\n",
      "{\"duration\":15233,\"misses\":0,\"round\":8,\"event_count\":214,\"game_time\":239432,\"event_code\":2030}                                                                                                                                                                                                                                                                                                                                                                                                                                                                              1\n",
      "{\"rocket\":5,\"height\":520,\"duration\":434,\"coordinates\":{\"x\":554,\"y\":516,\"stage_width\":1015,\"stage_height\":762},\"launched\":true,\"event_count\":13,\"game_time\":16611,\"event_code\":4020}                                                                                                                                                                                                                                                                                                                                                                                         1\n",
      "{\"coordinates\":{\"x\":219,\"y\":615,\"stage_width\":1015,\"stage_height\":762},\"event_count\":18,\"game_time\":42212,\"event_code\":4070}                                                                                                                                                                                                                                                                                                                                                                                                                                                1\n",
      "{\"cloud\":\"right\",\"cloud_size\":2,\"water_level\":3,\"coordinates\":{\"x\":850,\"y\":181,\"stage_width\":1015,\"stage_height\":762},\"filled\":true,\"event_count\":13,\"game_time\":20761,\"event_code\":4025}                                                                                                                                                                                                                                                                                                                                                                                   1\n",
      "{\"description\":\"I want you to fly farther than the other dinosaur did.\",\"identifier\":\"ObjectiveFlyFurtherThanOther\",\"media_type\":\"animation\",\"total_duration\":3600,\"round\":1,\"event_count\":12,\"game_time\":23240,\"event_code\":3010}                                                                                                                                                                                                                                                                                                                                          1\n",
      "{\"coordinates\":{\"x\":889,\"y\":158,\"stage_width\":1015,\"stage_height\":762},\"event_count\":12,\"game_time\":15760,\"event_code\":4070}                                                                                                                                                                                                                                                                                                                                                                                                                                                1\n",
      "{\"coordinates\":{\"x\":1,\"y\":442,\"stage_width\":1015,\"stage_height\":762},\"event_count\":44,\"game_time\":79565,\"event_code\":4070}                                                                                                                                                                                                                                                                                                                                                                                                                                                  1\n",
      "{\"description\":\"Incoming!\",\"identifier\":\"Buddy_Incoming\",\"media_type\":\"audio\",\"duration\":1403,\"event_count\":55,\"game_time\":106156,\"event_code\":3110}                                                                                                                                                                                                                                                                                                                                                                                                                        1\n",
      "{\"bottle\":{\"amount\":1,\"color\":\"pink\"},\"bottles\":[{\"color\":\"blue\",\"amount\":2},{\"color\":\"blue\",\"amount\":1},{\"color\":\"purple\",\"amount\":2},{\"color\":\"purple\",\"amount\":1},{\"color\":\"orange\",\"amount\":1},{\"color\":\"orange\",\"amount\":2},{\"color\":\"pink\",\"amount\":1},{\"color\":\"pink\",\"amount\":2},{\"color\":\"yellow\",\"amount\":1},{\"color\":\"yellow\",\"amount\":2},{\"color\":\"green\",\"amount\":1},{\"color\":\"green\",\"amount\":2}],\"coordinates\":{\"x\":401,\"y\":602,\"stage_width\":1015,\"stage_height\":762},\"source\":7,\"round\":12,\"event_count\":169,\"game_time\":299575,\"event_code\":4030}         1\n",
      "{\"weight\":3,\"source\":\"scale\",\"resources\":[3],\"coordinates\":{\"x\":369,\"y\":395,\"stage_width\":1015,\"stage_height\":762},\"round\":2,\"event_count\":137,\"game_time\":191474,\"event_code\":4030}                                                                                                                                                                                                                                                                                                                                                                                        1\n",
      "{\"coordinates\":{\"x\":1001,\"y\":684,\"stage_width\":1015,\"stage_height\":762},\"round\":2,\"event_count\":285,\"game_time\":62930,\"event_code\":4070}                                                                                                                                                                                                                                                                                                                                                                                                                                    1\n",
      "{\"side\":\"right\",\"layout\":{\"left\":{\"chickens\":5,\"pig\":false},\"right\":{\"chickens\":5,\"pig\":false}},\"coordinates\":{\"x\":730,\"y\":436,\"stage_width\":1015,\"stage_height\":762},\"duration\":898,\"source\":\"right\",\"event_count\":267,\"game_time\":1016462,\"event_code\":4020}                                                                                                                                                                                                                                                                                                              1\n",
      "{\"description\":\"You've made Epidermis so happy!\",\"identifier\":\"Cleo_EpidermisSoHappy\",\"media_type\":\"animation\",\"duration\":5147,\"round\":8,\"event_count\":171,\"game_time\":277275,\"event_code\":3121}                                                                                                                                                                                                                                                                                                                                                                            1\n",
      "{\"coordinates\":{\"x\":225,\"y\":295,\"stage_width\":1015,\"stage_height\":406},\"round\":6,\"event_count\":157,\"game_time\":264591,\"event_code\":4070}                                                                                                                                                                                                                                                                                                                                                                                                                                    1\n",
      "{\"coordinates\":{\"x\":599,\"y\":650,\"stage_width\":1015,\"stage_height\":762},\"round\":6,\"event_count\":279,\"game_time\":158084,\"event_code\":4070}                                                                                                                                                                                                                                                                                                                                                                                                                                    1\n",
      "{\"description\":\"You moved your dinosaur Two spaces.\",\"identifier\":\"YouMovedYourDinosaur,_2,Spaces\",\"media_type\":\"animation\",\"duration\":727,\"round\":0,\"event_count\":34,\"game_time\":61063,\"event_code\":3110}                                                                                                                                                                                                                                                                                                                                                                  1\n",
      "{\"coordinates\":{\"x\":288,\"y\":295,\"stage_width\":1015,\"stage_height\":406},\"round\":3,\"event_count\":88,\"game_time\":183572,\"event_code\":4070}                                                                                                                                                                                                                                                                                                                                                                                                                                     1\n",
      "{\"description\":\"Fill it up!\",\"identifier\":\"Dot_FillItUp\",\"media_type\":\"audio\",\"duration\":717,\"event_count\":42,\"game_time\":39519,\"event_code\":3110}                                                                                                                                                                                                                                                                                                                                                                                                                          1\n",
      "{\"dinosaur\":\"petey\",\"size\":2,\"dinosaurs\":[{\"name\":\"petey\",\"size\":2},{\"name\":\"none\",\"size\":0},{\"name\":\"none\",\"size\":0},{\"name\":\"none\",\"size\":0},{\"name\":\"none\",\"size\":0}],\"coordinates\":{\"x\":256,\"y\":752,\"stage_width\":1015,\"stage_height\":762},\"duration\":917,\"round\":3,\"event_count\":91,\"game_time\":124027,\"event_code\":4035}                                                                                                                                                                                                                                              1\n",
      "{\"coordinates\":{\"x\":284,\"y\":353,\"stage_width\":1015,\"stage_height\":406},\"round\":2,\"event_count\":53,\"game_time\":132060,\"event_code\":4070}                                                                                                                                                                                                                                                                                                                                                                                                                                     1\n",
      "{\"description\":\"That's not enough food. Try putting a piece on the scale, to make that side heavier!\",\"identifier\":\"1438\",\"media_type\":\"animation\",\"total_duration\":5875,\"round\":1,\"event_count\":60,\"game_time\":62650,\"event_code\":3020}                                                                                                                                                                                                                                                                                                                                    1\n",
      "{\"description\":\"Tap another dinosaur.\",\"identifier\":\"clip_307_touch\",\"media_type\":\"animation\",\"total_duration\":1433,\"round\":3,\"event_count\":113,\"game_time\":95342,\"event_code\":3010}                                                                                                                                                                                                                                                                                                                                                                                        1\n",
      "{\"coordinates\":{\"x\":846,\"y\":181,\"stage_width\":1015,\"stage_height\":762},\"event_count\":79,\"game_time\":58212,\"event_code\":4070}                                                                                                                                                                                                                                                                                                                                                                                                                                                1\n",
      "{\"description\":\"Four.\",\"identifier\":\"Mom_Count4\",\"media_type\":\"audio\",\"duration\":2167,\"round\":1,\"event_count\":33,\"game_time\":55020,\"event_code\":3121}                                                                                                                                                                                                                                                                                                                                                                                                                       1\n",
      "Name: event_data, Length: 10893749, dtype: int64\n",
      " \n",
      "installation_id f1c21eda    58988\n",
      "4d7d3d97    32749\n",
      "d25338cb    31826\n",
      "cff5a334    30918\n",
      "c9ea32e9    30402\n",
      "9f399a3a    26455\n",
      "96979008    25404\n",
      "063e3e02    24988\n",
      "2d6d1ecd    24356\n",
      "4bbf5c31    24098\n",
      "1f71eb61    23225\n",
      "772c8f0d    23087\n",
      "cf2a3a60    22280\n",
      "416398f8    21662\n",
      "6cb38ea0    20658\n",
      "eca4e454    20306\n",
      "2ffb27f9    19301\n",
      "c1b7df3e    18514\n",
      "0d5a1a5e    17754\n",
      "53e3a945    17593\n",
      "4b02b17f    17501\n",
      "353622fd    16834\n",
      "343f56f4    16657\n",
      "698c0f0a    16407\n",
      "f605e2d5    16242\n",
      "a31288d6    16211\n",
      "7432d976    16154\n",
      "d09c44d1    16039\n",
      "d6425070    15915\n",
      "73aec158    15717\n",
      "            ...  \n",
      "874d7a28        1\n",
      "63cbd3b8        1\n",
      "92fd9c5f        1\n",
      "f1a35b54        1\n",
      "7f42de4f        1\n",
      "1a6a84df        1\n",
      "7c9d6556        1\n",
      "347109d4        1\n",
      "df5c1031        1\n",
      "b17fc07f        1\n",
      "21140aa4        1\n",
      "09fb0e32        1\n",
      "5366cadd        1\n",
      "24ed1088        1\n",
      "7cdc74d7        1\n",
      "7fa0f9cc        1\n",
      "e4659d43        1\n",
      "0577d57c        1\n",
      "d190401b        1\n",
      "39de534a        1\n",
      "6f9f3070        1\n",
      "dacd3941        1\n",
      "795eea1c        1\n",
      "4de249cc        1\n",
      "d66f7609        1\n",
      "1d8b4ab1        1\n",
      "a6b166c2        1\n",
      "de74de97        1\n",
      "7463be06        1\n",
      "728a11b8        1\n",
      "Name: installation_id, Length: 17000, dtype: int64\n",
      " \n",
      "event_count  \n",
      "event_code  \n",
      "game_time  \n",
      "title Chow Time                        1150974\n",
      "Sandcastle Builder (Activity)    1034332\n",
      "Scrub-A-Dub                      1016837\n",
      "Bottle Filler (Activity)         1004068\n",
      "Fireworks (Activity)              535030\n",
      "All Star Sorting                  509344\n",
      "Dino Drink                        492916\n",
      "Bubble Bath                       458972\n",
      "Crystals Rule                     453852\n",
      "Bug Measurer (Activity)           446430\n",
      "Chicken Balancer (Activity)       443156\n",
      "Dino Dive                         427655\n",
      "Pan Balance                       384857\n",
      "Watering Hole (Activity)          369270\n",
      "Flower Waterer (Activity)         356034\n",
      "Happy Camel                       311543\n",
      "Air Show                          306239\n",
      "Leaf Leader                       282104\n",
      "Egg Dropper (Activity)            248408\n",
      "Mushroom Sorter (Assessment)      199595\n",
      "Chest Sorter (Assessment)         190318\n",
      "Bird Measurer (Assessment)        190164\n",
      "Cauldron Filler (Assessment)      181925\n",
      "Cart Balancer (Assessment)        163343\n",
      "Welcome to Lost Lagoon!            23578\n",
      "Magma Peak - Level 2               17115\n",
      "Crystal Caves - Level 2            14342\n",
      "Magma Peak - Level 1               13623\n",
      "Tree Top City - Level 2            12685\n",
      "Crystal Caves - Level 1            12505\n",
      "Crystal Caves - Level 3            12482\n",
      "Tree Top City - Level 1            12333\n",
      "Tree Top City - Level 3            10516\n",
      "Ordering Spheres                    9758\n",
      "Slop Problem                        6974\n",
      "Lifting Heavy Things                5759\n",
      "Balancing Act                       5522\n",
      "Costume Box                         4538\n",
      "Pirate's Tale                       4365\n",
      "12 Monkeys                          4124\n",
      "Honey Cake                          3882\n",
      "Rulers                              3372\n",
      "Heavy, Heavier, Heaviest            3351\n",
      "Treasure Map                        2852\n",
      "Name: title, dtype: int64\n",
      " \n",
      "type Game          5795293\n",
      "Activity      4436728\n",
      "Assessment     925345\n",
      "Clip           183676\n",
      "Name: type, dtype: int64\n",
      " \n",
      "world MAGMAPEAK       5023687\n",
      "CRYSTALCAVES    3232546\n",
      "TREETOPCITY     3061231\n",
      "NONE              23578\n",
      "Name: world, dtype: int64\n",
      " \n",
      "month  \n",
      "hour  \n",
      "year  \n",
      "dayofweek  \n",
      "weekofyear  \n",
      "AssessmentAttempt  \n",
      "IsAssessmentCorrect False    28088\n",
      "True     13461\n",
      "Name: IsAssessmentCorrect, dtype: int64\n",
      " \n"
     ]
    }
   ],
   "source": [
    "for _col in df_train.columns:\n",
    "    \n",
    "    print(_col+' ',end=\"\")\n",
    "    if df_train[_col].dtype=='object' :\n",
    "        print(df_train[_col].value_counts())\n",
    "    print(\" \")"
   ]
  },
  {
   "cell_type": "code",
   "execution_count": null,
   "metadata": {},
   "outputs": [],
   "source": []
  },
  {
   "cell_type": "markdown",
   "metadata": {},
   "source": [
    "##  Concat train + train_label"
   ]
  },
  {
   "cell_type": "code",
   "execution_count": null,
   "metadata": {},
   "outputs": [],
   "source": [
    "df_train"
   ]
  },
  {
   "cell_type": "markdown",
   "metadata": {},
   "source": [
    "### Convert Columns\n",
    "#### *timestamp*\n",
    "- Convert dtype to use easily"
   ]
  },
  {
   "cell_type": "code",
   "execution_count": 14,
   "metadata": {},
   "outputs": [],
   "source": [
    "df_train.timestamp = pd.to_datetime(df_train.timestamp,format='%Y-%m-%dT%H:%M:%S.%f')"
   ]
  },
  {
   "cell_type": "code",
   "execution_count": 15,
   "metadata": {},
   "outputs": [],
   "source": [
    "df_train['month']      = df_train.timestamp.dt.month\n",
    "df_train['hour']       = df_train.timestamp.dt.hour\n",
    "df_train['year']       = df_train.timestamp.dt.year\n",
    "df_train['dayofweek']  = df_train.timestamp.dt.dayofweek\n",
    "df_train['weekofyear'] = df_train.timestamp.dt.weekofyear"
   ]
  },
  {
   "cell_type": "code",
   "execution_count": 16,
   "metadata": {},
   "outputs": [],
   "source": [
    "ls_col_time = ['timestamp','month','hour','year','dayofweek','weekofyear']"
   ]
  },
  {
   "cell_type": "markdown",
   "metadata": {},
   "source": [
    "### Add and Convert Columns\n",
    "#### *Assessment attempts* & *IsAssessmentCorrect*\n",
    "\n",
    "Admin says..\n",
    "- The file train_labels.csv has been provided to show how these groups would be computed on the assessments in the training set. \n",
    "- Assessment attempts are captured in event_code 4100 for all assessments except for Bird Measurer, which uses event_code 4110. \n",
    "- If the attempt was correct, it contains \"correct\":true.\n",
    "\n",
    "*https://www.kaggle.com/artgor/oop-approach-to-fe-and-models*"
   ]
  },
  {
   "cell_type": "code",
   "execution_count": 17,
   "metadata": {},
   "outputs": [],
   "source": [
    "\n",
    "df_train['AssessmentAttempt'] = 0\n",
    "df_train.loc[(df_train.title =='Bird Measurer (Assessment)')&(df_train.event_code==4110),'AssessmentAttempt'] = 1\n",
    "df_train.loc[(df_train.type  =='Assessment') & (df_train.title != 'Bird Measurer (Assessment)') & (df_train.event_code == 4100), 'AssessmentAttempt'] = 1"
   ]
  },
  {
   "cell_type": "code",
   "execution_count": 18,
   "metadata": {},
   "outputs": [],
   "source": [
    "\n",
    "df_train['IsAssessmentCorrect'] = None\n",
    "df_train.loc[(df_train.event_data.str.contains( '\"correct\":true'))&(df_train.AssessmentAttempt==1),'IsAssessmentCorrect'] = True\n",
    "df_train.loc[(df_train.event_data.str.contains('\"correct\":false'))&(df_train.AssessmentAttempt==1),'IsAssessmentCorrect'] = False"
   ]
  },
  {
   "cell_type": "code",
   "execution_count": 19,
   "metadata": {},
   "outputs": [
    {
     "data": {
      "text/plain": [
       "NaN      11299493\n",
       "False       28088\n",
       "True        13461\n",
       "Name: IsAssessmentCorrect, dtype: int64"
      ]
     },
     "execution_count": 19,
     "metadata": {},
     "output_type": "execute_result"
    }
   ],
   "source": [
    "df_train['IsAssessmentCorrect'].value_counts(dropna=False)"
   ]
  },
  {
   "cell_type": "markdown",
   "metadata": {},
   "source": [
    "## Drill *Event data*"
   ]
  },
  {
   "cell_type": "code",
   "execution_count": 20,
   "metadata": {},
   "outputs": [],
   "source": [
    "def decode_json(ls_idx_df_train):\n",
    "    df_event_json = pd.io.json.json_normalize(df_train.loc[ls_idx_df_train].event_data.progress_apply(json.loads))"
   ]
  },
  {
   "cell_type": "code",
   "execution_count": 24,
   "metadata": {},
   "outputs": [],
   "source": [
    "### TOOOOOOO heavy\n",
    "### Cannot execute my laptop ><\n",
    "\n",
    "# n_use_core = N_CORE-1\n",
    "# p = multiprocessing.Pool(n_use_core)\n",
    "# ls_ls_idx_df_train = [  df_train.index[i::(n_use_core*2)] for i in range(n_use_core*2)]\n",
    "# try:\n",
    "#     ls_df_train = p.map(decode_json,ls_ls_idx_df_train)\n",
    "# except:\n",
    "#     pass\n",
    "# finally:\n",
    "#     p.close()\n"
   ]
  },
  {
   "cell_type": "code",
   "execution_count": 25,
   "metadata": {},
   "outputs": [],
   "source": [
    "# df_train = pd.concat(ls_df_train,axis=0)"
   ]
  },
  {
   "cell_type": "markdown",
   "metadata": {},
   "source": [
    "# User features"
   ]
  },
  {
   "cell_type": "markdown",
   "metadata": {},
   "source": [
    "## *Game session*"
   ]
  },
  {
   "cell_type": "code",
   "execution_count": 21,
   "metadata": {},
   "outputs": [],
   "source": [
    "def lenset(_set):\n",
    "    return  len(list(set(_set)))\n",
    "def floatlen(_set):\n",
    "    return  float(len(_set))\n",
    "def max_d_len(_set):\n",
    "    return  max(_set)/float(len(_set))"
   ]
  },
  {
   "cell_type": "code",
   "execution_count": 22,
   "metadata": {},
   "outputs": [],
   "source": [
    "agg_func_game_session_validation={\n",
    "    'event_count':['max',max_d_len],#max_d_len,\n",
    "    'game_time':max_d_len,\n",
    "    'event_id':'count'\n",
    "}\n",
    "\n",
    "agg_func_game_session={\n",
    "    'game_time':max_d_len,\n",
    "    'event_id':'count'\n",
    "}\n",
    "agg_func_game_settting_validation={\n",
    "    'title':lenset,\n",
    "    'world':lenset,\n",
    "    'type':lenset\n",
    "}"
   ]
  },
  {
   "cell_type": "code",
   "execution_count": 23,
   "metadata": {},
   "outputs": [],
   "source": [
    "def make_df_group(df_tmp,ls_col_group,agg_func):\n",
    "    df_game_session_validation= \\\n",
    "        df_tmp.drop(ls_col_time,axis=1).groupby(\n",
    "            ls_col_group,\n",
    "            as_index=False,\n",
    "            sort=False\n",
    "        ).agg(agg_func)\n",
    "    return df_game_session_validation\n",
    "    \n",
    "def clean_start_event(df_tmp):\n",
    "    return df_tmp.loc[df_tmp.event_code != 2000]\n",
    "\n",
    "def clean_target_idx(df_tmp,ls_game_session_non_taget):\n",
    "    return df_tmp.drop(index=ls_game_session_non_taget)"
   ]
  },
  {
   "cell_type": "code",
   "execution_count": 27,
   "metadata": {},
   "outputs": [
    {
     "name": "stdout",
     "output_type": "stream",
     "text": [
      "start screen event:  0.02674524968693353\n",
      "Not start screen event:  0.9732547503130665\n"
     ]
    }
   ],
   "source": [
    "print('start screen event: ',df_train.loc[df_train.event_code == 2000].shape[0]/float(df_train.shape[0]))\n",
    "df_train_not_start = clean_start_event(df_train)\n",
    "print('Not start screen event: ',df_train_not_start.shape[0]/float(df_train.shape[0]))"
   ]
  },
  {
   "cell_type": "code",
   "execution_count": 26,
   "metadata": {},
   "outputs": [
    {
     "data": {
      "text/html": [
       "<div>\n",
       "<style scoped>\n",
       "    .dataframe tbody tr th:only-of-type {\n",
       "        vertical-align: middle;\n",
       "    }\n",
       "\n",
       "    .dataframe tbody tr th {\n",
       "        vertical-align: top;\n",
       "    }\n",
       "\n",
       "    .dataframe thead th {\n",
       "        text-align: right;\n",
       "    }\n",
       "</style>\n",
       "<table border=\"1\" class=\"dataframe\">\n",
       "  <thead>\n",
       "    <tr style=\"text-align: right;\">\n",
       "      <th></th>\n",
       "      <th>event_id</th>\n",
       "      <th>game_session</th>\n",
       "      <th>timestamp</th>\n",
       "      <th>event_data</th>\n",
       "      <th>installation_id</th>\n",
       "      <th>event_count</th>\n",
       "      <th>event_code</th>\n",
       "      <th>game_time</th>\n",
       "      <th>title</th>\n",
       "      <th>type</th>\n",
       "      <th>world</th>\n",
       "      <th>month</th>\n",
       "      <th>hour</th>\n",
       "      <th>year</th>\n",
       "      <th>dayofweek</th>\n",
       "      <th>weekofyear</th>\n",
       "      <th>AssessmentAttempt</th>\n",
       "      <th>IsAssessmentCorrect</th>\n",
       "    </tr>\n",
       "  </thead>\n",
       "  <tbody>\n",
       "    <tr>\n",
       "      <th>0</th>\n",
       "      <td>27253bdc</td>\n",
       "      <td>45bb1e1b6b50c07b</td>\n",
       "      <td>2019-09-06 17:53:46.937000+00:00</td>\n",
       "      <td>{\"event_code\": 2000, \"event_count\": 1}</td>\n",
       "      <td>0001e90f</td>\n",
       "      <td>1</td>\n",
       "      <td>2000</td>\n",
       "      <td>0</td>\n",
       "      <td>Welcome to Lost Lagoon!</td>\n",
       "      <td>Clip</td>\n",
       "      <td>NONE</td>\n",
       "      <td>9</td>\n",
       "      <td>17</td>\n",
       "      <td>2019</td>\n",
       "      <td>4</td>\n",
       "      <td>36</td>\n",
       "      <td>0</td>\n",
       "      <td>None</td>\n",
       "    </tr>\n",
       "  </tbody>\n",
       "</table>\n",
       "</div>"
      ],
      "text/plain": [
       "   event_id      game_session                        timestamp  \\\n",
       "0  27253bdc  45bb1e1b6b50c07b 2019-09-06 17:53:46.937000+00:00   \n",
       "\n",
       "                               event_data installation_id  event_count  \\\n",
       "0  {\"event_code\": 2000, \"event_count\": 1}        0001e90f            1   \n",
       "\n",
       "   event_code  game_time                    title  type world  month  hour  \\\n",
       "0        2000          0  Welcome to Lost Lagoon!  Clip  NONE      9    17   \n",
       "\n",
       "   year  dayofweek  weekofyear  AssessmentAttempt IsAssessmentCorrect  \n",
       "0  2019          4          36                  0                None  "
      ]
     },
     "execution_count": 26,
     "metadata": {},
     "output_type": "execute_result"
    }
   ],
   "source": [
    "#Event code :2000 is START screen \n",
    "df_train[df_train.game_session=='45bb1e1b6b50c07b']"
   ]
  },
  {
   "cell_type": "markdown",
   "metadata": {},
   "source": [
    "### Pick up *game_time* "
   ]
  },
  {
   "cell_type": "code",
   "execution_count": 28,
   "metadata": {},
   "outputs": [
    {
     "data": {
      "text/plain": [
       "[<matplotlib.lines.Line2D at 0x119bccdd8>]"
      ]
     },
     "execution_count": 28,
     "metadata": {},
     "output_type": "execute_result"
    },
    {
     "data": {
      "image/png": "[encoded data removed]",
      "text/plain": [
       "<Figure size 432x288 with 1 Axes>"
      ]
     },
     "metadata": {
      "needs_background": "light"
     },
     "output_type": "display_data"
    }
   ],
   "source": [
    "y = (df_train[df_train.game_session=='0848ef14a8dc6892'].game_time)\n",
    "x = range(len(y))\n",
    "plt.plot(x,y)"
   ]
  },
  {
   "cell_type": "markdown",
   "metadata": {},
   "source": []
  },
  {
   "cell_type": "markdown",
   "metadata": {},
   "source": [
    "## Check set of *Title, world and type* is unique to set of *install_id and session*"
   ]
  },
  {
   "cell_type": "code",
   "execution_count": 29,
   "metadata": {},
   "outputs": [
    {
     "data": {
      "text/plain": [
       "title    1.0\n",
       "world    1.0\n",
       "type     1.0\n",
       "dtype: float64"
      ]
     },
     "execution_count": 29,
     "metadata": {},
     "output_type": "execute_result"
    }
   ],
   "source": [
    "\n",
    "df_user_game_settting_validation = df_train.drop(ls_col_time,axis=1)[['installation_id','game_session','title','world','type']].groupby(['installation_id','game_session'],as_index=True,sort=False).agg(agg_func_game_settting_validation)\n",
    "#All col is 1 . it means VALIDATED \n",
    "df_user_game_settting_validation.mean()"
   ]
  },
  {
   "cell_type": "markdown",
   "metadata": {},
   "source": [
    "## Check *session and type, world*"
   ]
  },
  {
   "cell_type": "code",
   "execution_count": 32,
   "metadata": {},
   "outputs": [],
   "source": [
    "# use df_train_not_start\n",
    "# df_game_session_type  = make_df_group(df_train_not_start,['installation_id','game_session','type' ],agg_func_game_session_validation)\n",
    "# df_game_session_world = make_df_group(df_train_not_start,['installation_id','game_session','world'],agg_func_game_session_validation)\n",
    "\n",
    "df_game_session_world_type = make_df_group(df_train_not_start,['installation_id','game_session','world','type'],agg_func_game_session_validation)"
   ]
  },
  {
   "cell_type": "code",
   "execution_count": 48,
   "metadata": {},
   "outputs": [
    {
     "data": {
      "text/plain": [
       "<matplotlib.axes._subplots.AxesSubplot at 0x11a98bd68>"
      ]
     },
     "execution_count": 48,
     "metadata": {},
     "output_type": "execute_result"
    },
    {
     "data": {
      "image/png": "[encoded data removed]",
      "text/plain": [
       "<Figure size 432x288 with 2 Axes>"
      ]
     },
     "metadata": {
      "needs_background": "light"
     },
     "output_type": "display_data"
    }
   ],
   "source": [
    "sns.heatmap(df_game_session_world_type.pivot_table(index='world',columns=['type'],values='game_time',aggfunc='mean'),annot=True, fmt=\"1.1f\")"
   ]
  },
  {
   "cell_type": "markdown",
   "metadata": {},
   "source": [
    "### Check sequence to Asseement"
   ]
  },
  {
   "cell_type": "code",
   "execution_count": 63,
   "metadata": {},
   "outputs": [],
   "source": [
    "\n",
    "df_train_install_num = (df_train_not_start.pivot_table(index='installation_id',values='game_session',aggfunc=len)).sort_values(by='game_session',ascending=False)\n"
   ]
  },
  {
   "cell_type": "markdown",
   "metadata": {},
   "source": [
    "つぎは各install idにおける受講したもののの流れを見る。\n",
    "level を見てもいいかもね\n"
   ]
  },
  {
   "cell_type": "code",
   "execution_count": null,
   "metadata": {},
   "outputs": [],
   "source": []
  },
  {
   "cell_type": "code",
   "execution_count": null,
   "metadata": {},
   "outputs": [],
   "source": []
  },
  {
   "cell_type": "code",
   "execution_count": null,
   "metadata": {},
   "outputs": [],
   "source": []
  },
  {
   "cell_type": "markdown",
   "metadata": {},
   "source": [
    "## Making feature for ML"
   ]
  },
  {
   "cell_type": "code",
   "execution_count": 79,
   "metadata": {},
   "outputs": [
    {
     "name": "stdout",
     "output_type": "stream",
     "text": [
      "0              NONE\n",
      "1         MAGMAPEAK\n",
      "2         MAGMAPEAK\n",
      "3         MAGMAPEAK\n",
      "4         MAGMAPEAK\n",
      "           ...     \n",
      "1352      MAGMAPEAK\n",
      "1353      MAGMAPEAK\n",
      "1354      MAGMAPEAK\n",
      "1355    TREETOPCITY\n",
      "1356    TREETOPCITY\n",
      "Name: world, Length: 1357, dtype: object\n",
      "{'inst_id': '0001e90f', 'world': 'NONE'}\n"
     ]
    }
   ],
   "source": [
    "obj_uid = df_train.groupby('installation_id')\n",
    "# Check each obj\n",
    "for uid, obj in obj_uid:\n",
    "    make_user_feature(obj)\n",
    "    break"
   ]
  },
  {
   "cell_type": "code",
   "execution_count": 78,
   "metadata": {},
   "outputs": [],
   "source": [
    "def make_user_feature(obj_uid):\n",
    "\n",
    "    dct_usr = {}\n",
    "\n",
    "    # set meta infomation\n",
    "    # dupilicated data is ignored. Only use one\n",
    "    ほんとに？ゆにーくでいいの？\n",
    "    dct_usr['inst_id'] = obj_uid['installation_id'].unique()[0]\n",
    "    dct_usr['world'] = obj_uid['world'].unique()[0]\n",
    "    print(obj_uid['world'])\n",
    "\n",
    "    \n",
    "    print(dct_usr)"
   ]
  },
  {
   "cell_type": "code",
   "execution_count": 68,
   "metadata": {},
   "outputs": [
    {
     "ename": "KeyError",
     "evalue": "'Column not found: 0'",
     "output_type": "error",
     "traceback": [
      "\u001b[0;31m---------------------------------------------------------------------------\u001b[0m",
      "\u001b[0;31mKeyError\u001b[0m                                  Traceback (most recent call last)",
      "\u001b[0;32m<ipython-input-68-0c613be8a33d>\u001b[0m in \u001b[0;36m<module>\u001b[0;34m\u001b[0m\n\u001b[0;32m----> 1\u001b[0;31m \u001b[0mobj_uid\u001b[0m\u001b[0;34m[\u001b[0m\u001b[0;36m0\u001b[0m\u001b[0;34m]\u001b[0m\u001b[0;34m\u001b[0m\u001b[0;34m\u001b[0m\u001b[0m\n\u001b[0m",
      "\u001b[0;32m~/.pyenv/versions/3.7.1/lib/python3.7/site-packages/pandas/core/base.py\u001b[0m in \u001b[0;36m__getitem__\u001b[0;34m(self, key)\u001b[0m\n\u001b[1;32m    266\u001b[0m         \u001b[0;32melse\u001b[0m\u001b[0;34m:\u001b[0m\u001b[0;34m\u001b[0m\u001b[0;34m\u001b[0m\u001b[0m\n\u001b[1;32m    267\u001b[0m             \u001b[0;32mif\u001b[0m \u001b[0mkey\u001b[0m \u001b[0;32mnot\u001b[0m \u001b[0;32min\u001b[0m \u001b[0mself\u001b[0m\u001b[0;34m.\u001b[0m\u001b[0mobj\u001b[0m\u001b[0;34m:\u001b[0m\u001b[0;34m\u001b[0m\u001b[0;34m\u001b[0m\u001b[0m\n\u001b[0;32m--> 268\u001b[0;31m                 \u001b[0;32mraise\u001b[0m \u001b[0mKeyError\u001b[0m\u001b[0;34m(\u001b[0m\u001b[0;34m\"Column not found: {key}\"\u001b[0m\u001b[0;34m.\u001b[0m\u001b[0mformat\u001b[0m\u001b[0;34m(\u001b[0m\u001b[0mkey\u001b[0m\u001b[0;34m=\u001b[0m\u001b[0mkey\u001b[0m\u001b[0;34m)\u001b[0m\u001b[0;34m)\u001b[0m\u001b[0;34m\u001b[0m\u001b[0;34m\u001b[0m\u001b[0m\n\u001b[0m\u001b[1;32m    269\u001b[0m             \u001b[0;32mreturn\u001b[0m \u001b[0mself\u001b[0m\u001b[0;34m.\u001b[0m\u001b[0m_gotitem\u001b[0m\u001b[0;34m(\u001b[0m\u001b[0mkey\u001b[0m\u001b[0;34m,\u001b[0m \u001b[0mndim\u001b[0m\u001b[0;34m=\u001b[0m\u001b[0;36m1\u001b[0m\u001b[0;34m)\u001b[0m\u001b[0;34m\u001b[0m\u001b[0;34m\u001b[0m\u001b[0m\n\u001b[1;32m    270\u001b[0m \u001b[0;34m\u001b[0m\u001b[0m\n",
      "\u001b[0;31mKeyError\u001b[0m: 'Column not found: 0'"
     ]
    }
   ],
   "source": [
    "obj_uid"
   ]
  },
  {
   "cell_type": "code",
   "execution_count": null,
   "metadata": {},
   "outputs": [],
   "source": []
  },
  {
   "cell_type": "code",
   "execution_count": null,
   "metadata": {},
   "outputs": [],
   "source": []
  },
  {
   "cell_type": "code",
   "execution_count": null,
   "metadata": {},
   "outputs": [],
   "source": []
  },
  {
   "cell_type": "markdown",
   "metadata": {},
   "source": [
    "### *Convert Title* and \n",
    "\n",
    "Titile ans words have few kind of unique count.\n",
    "\n",
    "\n",
    "*https://www.kaggle.com/artgor/oop-approach-to-fe-and-models*"
   ]
  },
  {
   "cell_type": "code",
   "execution_count": null,
   "metadata": {},
   "outputs": [],
   "source": []
  },
  {
   "cell_type": "code",
   "execution_count": null,
   "metadata": {},
   "outputs": [],
   "source": []
  },
  {
   "cell_type": "code",
   "execution_count": null,
   "metadata": {},
   "outputs": [],
   "source": []
  },
  {
   "cell_type": "code",
   "execution_count": null,
   "metadata": {},
   "outputs": [],
   "source": []
  },
  {
   "cell_type": "code",
   "execution_count": 29,
   "metadata": {},
   "outputs": [
    {
     "data": {
      "text/plain": [
       "0                      {\"event_code\": 2000, \"event_count\": 1}\n",
       "1                      {\"event_code\": 2000, \"event_count\": 1}\n",
       "2           {\"version\":\"1.0\",\"event_count\":1,\"game_time\":0...\n",
       "3           {\"description\":\"Let's build a sandcastle! Firs...\n",
       "4           {\"description\":\"Let's build a sandcastle! Firs...\n",
       "                                  ...                        \n",
       "11341037    {\"description\":\"Tap another dinosaur.\",\"identi...\n",
       "11341038               {\"event_code\": 2000, \"event_count\": 1}\n",
       "11341039               {\"event_code\": 2000, \"event_count\": 1}\n",
       "11341040               {\"event_code\": 2000, \"event_count\": 1}\n",
       "11341041               {\"event_code\": 2000, \"event_count\": 1}\n",
       "Name: event_data, Length: 11341042, dtype: object"
      ]
     },
     "execution_count": 29,
     "metadata": {},
     "output_type": "execute_result"
    }
   ],
   "source": [
    "df_train.event_data"
   ]
  },
  {
   "cell_type": "code",
   "execution_count": null,
   "metadata": {},
   "outputs": [],
   "source": []
  },
  {
   "cell_type": "code",
   "execution_count": null,
   "metadata": {},
   "outputs": [],
   "source": []
  },
  {
   "cell_type": "code",
   "execution_count": null,
   "metadata": {},
   "outputs": [],
   "source": []
  },
  {
   "cell_type": "code",
   "execution_count": null,
   "metadata": {},
   "outputs": [],
   "source": []
  },
  {
   "cell_type": "code",
   "execution_count": null,
   "metadata": {},
   "outputs": [],
   "source": []
  },
  {
   "cell_type": "code",
   "execution_count": 42,
   "metadata": {},
   "outputs": [],
   "source": [
    "def save_pickle(filename,obj):\n",
    "    path_folder = '../pickle/'\n",
    "    with open(path_folder+filename+'.pickle','wb') as f:\n",
    "        pickle.dump(obj,f)"
   ]
  },
  {
   "cell_type": "code",
   "execution_count": 43,
   "metadata": {},
   "outputs": [
    {
     "ename": "OSError",
     "evalue": "[Errno 22] Invalid argument",
     "output_type": "error",
     "traceback": [
      "\u001b[0;31m---------------------------------------------------------------------------\u001b[0m",
      "\u001b[0;31mOSError\u001b[0m                                   Traceback (most recent call last)",
      "\u001b[0;32m<ipython-input-43-822266b00b99>\u001b[0m in \u001b[0;36m<module>\u001b[0;34m\u001b[0m\n\u001b[0;32m----> 1\u001b[0;31m \u001b[0msave_pickle\u001b[0m\u001b[0;34m(\u001b[0m\u001b[0;34m'df_train'\u001b[0m\u001b[0;34m,\u001b[0m\u001b[0mdf_train\u001b[0m\u001b[0;34m)\u001b[0m\u001b[0;34m\u001b[0m\u001b[0;34m\u001b[0m\u001b[0m\n\u001b[0m\u001b[1;32m      2\u001b[0m \u001b[0msave_pickle\u001b[0m\u001b[0;34m(\u001b[0m\u001b[0;34m'df_spec'\u001b[0m\u001b[0;34m,\u001b[0m\u001b[0mdf_spec\u001b[0m\u001b[0;34m)\u001b[0m\u001b[0;34m\u001b[0m\u001b[0;34m\u001b[0m\u001b[0m\n",
      "\u001b[0;32m<ipython-input-42-8df439f23b0c>\u001b[0m in \u001b[0;36msave_pickle\u001b[0;34m(filename, obj)\u001b[0m\n\u001b[1;32m      2\u001b[0m     \u001b[0mpath_folder\u001b[0m \u001b[0;34m=\u001b[0m \u001b[0;34m'../pickle/'\u001b[0m\u001b[0;34m\u001b[0m\u001b[0;34m\u001b[0m\u001b[0m\n\u001b[1;32m      3\u001b[0m     \u001b[0;32mwith\u001b[0m \u001b[0mopen\u001b[0m\u001b[0;34m(\u001b[0m\u001b[0mpath_folder\u001b[0m\u001b[0;34m+\u001b[0m\u001b[0mfilename\u001b[0m\u001b[0;34m+\u001b[0m\u001b[0;34m'.pickle'\u001b[0m\u001b[0;34m,\u001b[0m\u001b[0;34m'wb'\u001b[0m\u001b[0;34m)\u001b[0m \u001b[0;32mas\u001b[0m \u001b[0mf\u001b[0m\u001b[0;34m:\u001b[0m\u001b[0;34m\u001b[0m\u001b[0;34m\u001b[0m\u001b[0m\n\u001b[0;32m----> 4\u001b[0;31m         \u001b[0mpickle\u001b[0m\u001b[0;34m.\u001b[0m\u001b[0mdump\u001b[0m\u001b[0;34m(\u001b[0m\u001b[0mobj\u001b[0m\u001b[0;34m,\u001b[0m\u001b[0mf\u001b[0m\u001b[0;34m)\u001b[0m\u001b[0;34m\u001b[0m\u001b[0;34m\u001b[0m\u001b[0m\n\u001b[0m",
      "\u001b[0;31mOSError\u001b[0m: [Errno 22] Invalid argument"
     ]
    }
   ],
   "source": [
    "save_pickle('df_train',df_train)\n",
    "save_pickle('df_spec',df_spec)"
   ]
  },
  {
   "cell_type": "code",
   "execution_count": null,
   "metadata": {},
   "outputs": [],
   "source": [
    "df_train_labels"
   ]
  }
 ],
 "metadata": {
  "kernelspec": {
   "display_name": "Python 3",
   "language": "python",
   "name": "python3"
  },
  "language_info": {
   "codemirror_mode": {
    "name": "ipython",
    "version": 3
   },
   "file_extension": ".py",
   "mimetype": "text/x-python",
   "name": "python",
   "nbconvert_exporter": "python",
   "pygments_lexer": "ipython3",
   "version": "3.7.1"
  }
 },
 "nbformat": 4,
 "nbformat_minor": 2
}

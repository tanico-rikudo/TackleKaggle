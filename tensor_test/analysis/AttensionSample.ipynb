{
 "cells": [
  {
   "cell_type": "code",
   "execution_count": null,
   "metadata": {},
   "outputs": [],
   "source": [
    "class SimpleAttention(tf.keras.models.Model):\n",
    "    '''\n",
    "    Attention の説明をするための、 Multi-head ではない単純な Attention です\n",
    "    '''\n",
    "\n",
    "    #\n",
    "    def __init__(self, depth: int, *args, **kwargs):\n",
    "        '''\n",
    "        コンストラクタです。\n",
    "        :param depth: 隠れ層及び出力の次元\n",
    "        '''\n",
    "        super().__init__(*args, **kwargs)\n",
    "        self.depth = depth\n",
    "\n",
    "        self.q_dense_layer = tf.keras.layers.Dense(depth, use_bias=False, name='q_dense_layer')\n",
    "        self.k_dense_layer = tf.keras.layers.Dense(depth, use_bias=False, name='k_dense_layer')\n",
    "        self.v_dense_layer = tf.keras.layers.Dense(depth, use_bias=False, name='v_dense_layer')\n",
    "        self.output_dense_layer = tf.keras.layers.Dense(depth, use_bias=False, name='output_dense_layer')\n",
    "\n",
    "     def call(self, input: tf.Tensor, memory: tf.Tensor) -> tf.Tensor:\n",
    "        '''\n",
    "        モデルの実行を行います。\n",
    "        :param input: query のテンソル\n",
    "        :param memory: query に情報を与える memory のテンソル\n",
    "        '''\n",
    "        q = self.q_dense_layer(input)  # [batch_size, q_length, depth]\n",
    "        k = self.k_dense_layer(memory)  # [batch_size, m_length, depth]\n",
    "        v = self.v_dense_layer(memory)\n",
    "\n",
    "        # ここで q と k の内積を取ることで、query と key の関連度のようなものを計算します。\n",
    "        logit = tf.matmul(q, k, transpose_b=True)  # [batch_size, q_length, k_length]\n",
    "\n",
    "        # softmax を取ることで正規化します\n",
    "        attention_weight = tf.nn.softmax(logit, name='attention_weight')\n",
    "\n",
    "        # 重みに従って value から情報を引いてきます\n",
    "        attention_output = tf.matmul(attention_weight, v)  # [batch_size, q_length, depth]\n",
    "        return self.output_dense_layer(attention_output)"
   ]
  },
  {
   "cell_type": "code",
   "execution_count": 4,
   "metadata": {},
   "outputs": [],
   "source": [
    "import tensorflow as tf"
   ]
  },
  {
   "cell_type": "code",
   "execution_count": null,
   "metadata": {},
   "outputs": [],
   "source": [
    "class Attension(tf.keras.models.Model):\n",
    "    ### Constructor  ###\n",
    "    '''\n",
    "    :params : #dim of output\n",
    "    '''\n",
    "    def __init__(self, depth, *arg, **kwargs):\n",
    "        super().__init__(**arggs, **kwargs)\n",
    "        self.depth = depth\n",
    "        self.q_\n",
    "        \n",
    "        "
   ]
  }
 ],
 "metadata": {
  "kernelspec": {
   "display_name": "Python 3",
   "language": "python",
   "name": "python3"
  },
  "language_info": {
   "codemirror_mode": {
    "name": "ipython",
    "version": 3
   },
   "file_extension": ".py",
   "mimetype": "text/x-python",
   "name": "python",
   "nbconvert_exporter": "python",
   "pygments_lexer": "ipython3",
   "version": "3.8.1"
  }
 },
 "nbformat": 4,
 "nbformat_minor": 4
}

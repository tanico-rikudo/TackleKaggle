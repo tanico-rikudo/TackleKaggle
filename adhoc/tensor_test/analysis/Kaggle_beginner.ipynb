{
 "cells": [
  {
   "cell_type": "markdown",
   "metadata": {},
   "source": [
    "https://www.buildinsider.net/small/booktensorflow/0103\n",
    "## Refer to https://www.kaggle.com/akashkr/tensorflow-tutorial/comments#Tensorflow-Basics ##"
   ]
  },
  {
   "cell_type": "code",
   "execution_count": 2,
   "metadata": {},
   "outputs": [],
   "source": [
    "import warnings\n",
    "warnings.filterwarnings(\"ignore\")\n",
    "\n",
    "import numpy as np\n",
    "import tensorflow as tf"
   ]
  },
  {
   "cell_type": "code",
   "execution_count": 3,
   "metadata": {},
   "outputs": [],
   "source": [
    "m1 = tf.constant([[2,2]])\n",
    "m2 = tf.constant([[3],[3]])"
   ]
  },
  {
   "cell_type": "code",
   "execution_count": 6,
   "metadata": {},
   "outputs": [],
   "source": [
    "dot_operation = tf.matmul(m1,m2)\n",
    "add_operation = tf.add(m1,m2)"
   ]
  },
  {
   "cell_type": "code",
   "execution_count": 7,
   "metadata": {},
   "outputs": [
    {
     "data": {
      "text/plain": [
       "<tf.Tensor 'Add:0' shape=(2, 2) dtype=int32>"
      ]
     },
     "execution_count": 7,
     "metadata": {},
     "output_type": "execute_result"
    }
   ],
   "source": [
    "dot_operation\n",
    "add_opration"
   ]
  },
  {
   "cell_type": "code",
   "execution_count": null,
   "metadata": {},
   "outputs": [],
   "source": []
  },
  {
   "cell_type": "markdown",
   "metadata": {},
   "source": [
    "- tensor : Construct flow graph of data\n",
    "- Sesssion : you have to set \"Session\" and \"data flow graph\", then construct model so that learn \"data flow graph\" in \"session\" "
   ]
  },
  {
   "cell_type": "code",
   "execution_count": 8,
   "metadata": {},
   "outputs": [
    {
     "name": "stdout",
     "output_type": "stream",
     "text": [
      "[[12]]\n"
     ]
    }
   ],
   "source": [
    "sess = tf.Session()\n",
    "result = sess.run(dot_operation)\n",
    "print(result)\n",
    "sess.close()"
   ]
  },
  {
   "cell_type": "code",
   "execution_count": 9,
   "metadata": {},
   "outputs": [
    {
     "name": "stdout",
     "output_type": "stream",
     "text": [
      "[[12]]\n"
     ]
    }
   ],
   "source": [
    "# Alternate way to run\n",
    "with tf.Session() as sess:\n",
    "    result_ = sess.run(dot_operation)\n",
    "    print(result_)"
   ]
  },
  {
   "cell_type": "code",
   "execution_count": 10,
   "metadata": {},
   "outputs": [],
   "source": [
    "var = tf.Variable(1)\n",
    "add_operation = tf.add(var, 1)\n"
   ]
  },
  {
   "cell_type": "code",
   "execution_count": 11,
   "metadata": {},
   "outputs": [
    {
     "data": {
      "text/plain": [
       "<tf.Tensor 'Add_2:0' shape=() dtype=int32>"
      ]
     },
     "execution_count": 11,
     "metadata": {},
     "output_type": "execute_result"
    }
   ],
   "source": [
    "add_operation"
   ]
  },
  {
   "cell_type": "code",
   "execution_count": 98,
   "metadata": {},
   "outputs": [],
   "source": [
    "x = np.linspace(-5,5,200)\n",
    "y_relu = tf.nn.relu(x)\n",
    "y_sigmoid = tf.nn.sigmoid(x)\n",
    "y_tanh = tf.nn.tanh(x)\n",
    "y_softplus = tf.nn.softplus(x)"
   ]
  },
  {
   "cell_type": "code",
   "execution_count": 99,
   "metadata": {},
   "outputs": [],
   "source": [
    "sess = tf.Session()\n",
    "y_relu, y_sigmoid, y_tanh, y_softplus = sess.run([y_relu, y_sigmoid, y_tanh, y_softplus])"
   ]
  },
  {
   "cell_type": "code",
   "execution_count": 111,
   "metadata": {},
   "outputs": [],
   "source": [
    "class Figure:\n",
    "    def __init__(self):\n",
    "        import matplotlib.pyplot as plt\n",
    "        self.default = {}\n",
    "        self.default['size'] = (7,4)\n",
    "        self.default['color'] = 'red'\n",
    "        self.default['maker'] = 'o'\n",
    "        self.default['makersize'] = 2\n",
    "        self.default['markerfacecolor'] = 'red'\n",
    "        self.default['linestyle'] = '-'\n",
    "        self.default['loc'] = 'upper right'\n",
    "        self.default['bbox_to_anchor'] = (1,1)\n",
    "        self.default['borderaxespad'] = 0\n",
    "        self.default['fontsize'] = 14\n",
    "\n",
    "    def parse_kwargs(self,ls_config_item,kwargs):\n",
    "        dct_config = {}\n",
    "        for config_item in ls_config_item:\n",
    "            dct_config[config_item]=kwargs[config_item] if(config_item in kwargs.keys())else self.default[config_item]\n",
    "        return dct_config\n",
    "        \n",
    "        \n",
    "    def gen_base(self,**kwargs):\n",
    "        ls_config_item=['size']\n",
    "        dct_config = self.parse_kwargs(ls_config_item,kwargs)\n",
    "        self.fig, self.ax = plt.subplots(\n",
    "            figsize=dct_config['size'],\n",
    "            facecolor='w' #fixed\n",
    "        )\n",
    "        \n",
    "    def plot_line(self, _ls_x, _ls_y, _label, **kwargs):\n",
    "        ls_config_item=['color','maker','makersize','markerfacecolor','linestyle']\n",
    "        dct_config = self.parse_kwargs(ls_config_item,kwargs)\n",
    "        \n",
    "        self.ax.plot(\n",
    "            _ls_x, _ls_y,\n",
    "            label=_label,\n",
    "            color=dct_config['color'],\n",
    "            marker=dct_config['maker'],\n",
    "            markersize=dct_config['makersize'] ,\n",
    "            markerfacecolor=dct_config['markerfacecolor'],\n",
    "            linestyle=dct_config['linestyle']\n",
    "        )\n",
    "    \n",
    "    def ylim(self,minmax):\n",
    "        _min,_max = minmax\n",
    "        ymin,ymax = self.ax.get_ylim()\n",
    "        ymin = ymin if _min is None else _min\n",
    "        ymax = ymax if _max is None else _max\n",
    "        self.ax.ylim(ymin,ymax)\n",
    "        \n",
    "    def legend(self,**kwargs):\n",
    "        \n",
    "        ls_config_item=['loc','bbox_to_anchor','borderaxespad','fontsize']\n",
    "        dct_config = self.parse_kwargs(ls_config_item,kwargs)\n",
    "        self.ax.legend(\n",
    "            loc=dct_config['loc'],#図上基準点を凡例のどこに合わせるか(UPPER RIGHTなど) #bestは自動\n",
    "            bbox_to_anchor=dct_config['bbox_to_anchor'],#図上基準点；左下(0, 0), 右上(1, 1)\n",
    "            borderaxespad=dct_config['borderaxespad'],#図上基準点との距離\n",
    "            fontsize=dct_config['fontsize']\n",
    "        )\n",
    "    "
   ]
  },
  {
   "cell_type": "code",
   "execution_count": 112,
   "metadata": {},
   "outputs": [
    {
     "data": {
      "image/png": "[encoded data removed]",
      "text/plain": [
       "<Figure size 504x288 with 1 Axes>"
      ]
     },
     "metadata": {},
     "output_type": "display_data"
    }
   ],
   "source": [
    "fig = Figure()\n",
    "fig.gen_base()\n",
    "fig.plot_line(x, y_relu,'relu',color='blue')\n",
    "fig.legend(loc='best',borderaxespad=0.5)\n"
   ]
  },
  {
   "cell_type": "code",
   "execution_count": 89,
   "metadata": {},
   "outputs": [
    {
     "data": {
      "text/plain": [
       "array([0.        , 0.        , 0.        , 0.        , 0.        ,\n",
       "       0.        , 0.        , 0.        , 0.        , 0.        ,\n",
       "       0.        , 0.        , 0.        , 0.        , 0.        ,\n",
       "       0.        , 0.        , 0.        , 0.        , 0.        ,\n",
       "       0.        , 0.        , 0.        , 0.        , 0.        ,\n",
       "       0.        , 0.        , 0.        , 0.        , 0.        ,\n",
       "       0.        , 0.        , 0.        , 0.        , 0.        ,\n",
       "       0.        , 0.        , 0.        , 0.        , 0.        ,\n",
       "       0.        , 0.        , 0.        , 0.        , 0.        ,\n",
       "       0.        , 0.        , 0.        , 0.        , 0.        ,\n",
       "       0.        , 0.        , 0.        , 0.        , 0.        ,\n",
       "       0.        , 0.        , 0.        , 0.        , 0.        ,\n",
       "       0.        , 0.        , 0.        , 0.        , 0.        ,\n",
       "       0.        , 0.        , 0.        , 0.        , 0.        ,\n",
       "       0.        , 0.        , 0.        , 0.        , 0.        ,\n",
       "       0.        , 0.        , 0.        , 0.        , 0.        ,\n",
       "       0.        , 0.        , 0.        , 0.        , 0.        ,\n",
       "       0.        , 0.        , 0.        , 0.        , 0.        ,\n",
       "       0.        , 0.        , 0.        , 0.        , 0.        ,\n",
       "       0.        , 0.        , 0.        , 0.        , 0.        ,\n",
       "       0.02512563, 0.07537688, 0.12562814, 0.1758794 , 0.22613065,\n",
       "       0.27638191, 0.32663317, 0.37688442, 0.42713568, 0.47738693,\n",
       "       0.52763819, 0.57788945, 0.6281407 , 0.67839196, 0.72864322,\n",
       "       0.77889447, 0.82914573, 0.87939698, 0.92964824, 0.9798995 ,\n",
       "       1.03015075, 1.08040201, 1.13065327, 1.18090452, 1.23115578,\n",
       "       1.28140704, 1.33165829, 1.38190955, 1.4321608 , 1.48241206,\n",
       "       1.53266332, 1.58291457, 1.63316583, 1.68341709, 1.73366834,\n",
       "       1.7839196 , 1.83417085, 1.88442211, 1.93467337, 1.98492462,\n",
       "       2.03517588, 2.08542714, 2.13567839, 2.18592965, 2.2361809 ,\n",
       "       2.28643216, 2.33668342, 2.38693467, 2.43718593, 2.48743719,\n",
       "       2.53768844, 2.5879397 , 2.63819095, 2.68844221, 2.73869347,\n",
       "       2.78894472, 2.83919598, 2.88944724, 2.93969849, 2.98994975,\n",
       "       3.04020101, 3.09045226, 3.14070352, 3.19095477, 3.24120603,\n",
       "       3.29145729, 3.34170854, 3.3919598 , 3.44221106, 3.49246231,\n",
       "       3.54271357, 3.59296482, 3.64321608, 3.69346734, 3.74371859,\n",
       "       3.79396985, 3.84422111, 3.89447236, 3.94472362, 3.99497487,\n",
       "       4.04522613, 4.09547739, 4.14572864, 4.1959799 , 4.24623116,\n",
       "       4.29648241, 4.34673367, 4.39698492, 4.44723618, 4.49748744,\n",
       "       4.54773869, 4.59798995, 4.64824121, 4.69849246, 4.74874372,\n",
       "       4.79899497, 4.84924623, 4.89949749, 4.94974874, 5.        ])"
      ]
     },
     "execution_count": 89,
     "metadata": {},
     "output_type": "execute_result"
    }
   ],
   "source": [
    "y_relu"
   ]
  },
  {
   "cell_type": "code",
   "execution_count": null,
   "metadata": {},
   "outputs": [],
   "source": []
  }
 ],
 "metadata": {
  "kernelspec": {
   "display_name": "Python 3",
   "language": "python",
   "name": "python3"
  },
  "language_info": {
   "codemirror_mode": {
    "name": "ipython",
    "version": 3
   },
   "file_extension": ".py",
   "mimetype": "text/x-python",
   "name": "python",
   "nbconvert_exporter": "python",
   "pygments_lexer": "ipython3",
   "version": "3.8.1"
  }
 },
 "nbformat": 4,
 "nbformat_minor": 4
}
